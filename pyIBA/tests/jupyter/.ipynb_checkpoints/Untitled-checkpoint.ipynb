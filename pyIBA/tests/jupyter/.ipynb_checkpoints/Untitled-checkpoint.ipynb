{
 "cells": [
  {
   "cell_type": "code",
   "execution_count": 2,
   "id": "c9adf499",
   "metadata": {},
   "outputs": [],
   "source": [
    "from pyIBA import IDF"
   ]
  },
  {
   "cell_type": "code",
   "execution_count": 3,
   "id": "5c532db1",
   "metadata": {},
   "outputs": [],
   "source": [
    "idf_file = IDF()"
   ]
  },
  {
   "cell_type": "code",
   "execution_count": 4,
   "id": "b8b29631",
   "metadata": {},
   "outputs": [
    {
     "name": "stdout",
     "output_type": "stream",
     "text": [
      "Help on method set_profile in module pyIBA.main_idf:\n",
      "\n",
      "set_profile(profile_dic) method of pyIBA.IDF.IDF instance\n",
      "    Sets the depth profile of the sample. \n",
      "    \n",
      "    The ``profile_dic`` is a dictionary with dim(number of layers + **2**). One of the entries, \n",
      "    ``profile_dic['nlayers']``, contains the number of layers and it is there to simply some parts\n",
      "    of the NDF related code. Another entry, ``profile_dic['nlayers']``, is reserved for the names of\n",
      "    the elements.\n",
      "    \n",
      "    The other dictionary entries have the information of each layer and are themselves dictionaries.\n",
      "    Therefore, ``profile_dic`` should look like the following::\n",
      "            \n",
      "            profile_dic = {\n",
      "                    'nlayers': '3',\n",
      "                    'names': ['Co 0.45 Pt 0.55', 'Si 1 O 2', 'Si'],\n",
      "                    0: {'thickness': 390,     'concentrations': [100, 0,  0]}, \n",
      "                    1: {'thickness': 700,     'concentrations': [ 0, 100, 0]}, \n",
      "                    2: {'thickness': 4000000, 'concentrations': [ 0,  0, 100]}                              \n",
      "            }\n",
      "    \n",
      "    The *concentrations* array contains the concentration of each element on the layer. The order of\n",
      "    the values follows the *names* array, i.e. layer 1 is the concentration of element 1 (CoPt), etc...\n",
      "    \n",
      "    **Note on nested dictionaries**: If you want to change, for instance, the concentrations of layer 1\n",
      "    you can do it by::\n",
      "    \n",
      "            profile_dic[1]['concentrations'] = [50, 50, 0]\n",
      "    \n",
      "    or if you want to change the name of the 1st element::\n",
      "    \n",
      "            profile_dic['names'][0] = 'Co 1 Pt 1'\n",
      "    \n",
      "    \n",
      "    Args:\n",
      "            profile_dic (dictionary): Dictionary with the data on the depth profile of the sample\n",
      "\n"
     ]
    }
   ],
   "source": [
    "help(idf_file.set_profile)"
   ]
  },
  {
   "cell_type": "code",
   "execution_count": null,
   "id": "b6b399f5",
   "metadata": {},
   "outputs": [],
   "source": []
  }
 ],
 "metadata": {
  "hide_input": false,
  "kernelspec": {
   "display_name": "Python 3",
   "language": "python",
   "name": "python3"
  },
  "language_info": {
   "codemirror_mode": {
    "name": "ipython",
    "version": 3
   },
   "file_extension": ".py",
   "mimetype": "text/x-python",
   "name": "python",
   "nbconvert_exporter": "python",
   "pygments_lexer": "ipython3",
   "version": "3.8.10"
  },
  "toc": {
   "base_numbering": 1,
   "nav_menu": {},
   "number_sections": true,
   "sideBar": true,
   "skip_h1_title": false,
   "title_cell": "Table of Contents",
   "title_sidebar": "Contents",
   "toc_cell": false,
   "toc_position": {},
   "toc_section_display": true,
   "toc_window_display": false
  }
 },
 "nbformat": 4,
 "nbformat_minor": 5
}
