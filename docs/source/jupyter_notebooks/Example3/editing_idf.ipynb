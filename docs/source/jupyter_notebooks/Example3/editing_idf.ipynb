{
 "cells": [
  {
   "cell_type": "markdown",
   "id": "cc201ed6",
   "metadata": {},
   "source": [
    "# 3 - Editing an IDF file"
   ]
  },
  {
   "cell_type": "markdown",
   "id": "e9dd49a8",
   "metadata": {},
   "source": [
    "[Example 1 - Creating a blank IDF](../Example1/blank_idf.ipynb) demonstrated how to create an IDF file from raw data. Here we show how to edit/inspect the IDF file created previously:"
   ]
  },
  {
   "cell_type": "markdown",
   "id": "99dc12d2",
   "metadata": {},
   "source": [
    "## Loading the file"
   ]
  },
  {
   "cell_type": "code",
   "execution_count": 1,
   "id": "c4ecb9fc",
   "metadata": {},
   "outputs": [],
   "source": [
    "file_path = '../Example1/idf_example1.xml'"
   ]
  },
  {
   "cell_type": "markdown",
   "id": "d7a44520",
   "metadata": {},
   "source": [
    "and load it when creating the IDF object:"
   ]
  },
  {
   "cell_type": "code",
   "execution_count": 2,
   "id": "8ca54373",
   "metadata": {},
   "outputs": [],
   "source": [
    "# if pyIBA has been installed with pip3,\n",
    "# the above 4 lines can be removed\n",
    "import sys\n",
    "from os.path import abspath\n",
    "path_pyIBA = abspath('../../../..')\n",
    "sys.path.insert(0, path_pyIBA)\n",
    "\n",
    "# import pyIBA\n",
    "from pyIBA import IDF"
   ]
  },
  {
   "cell_type": "code",
   "execution_count": 3,
   "id": "be74e0b9",
   "metadata": {},
   "outputs": [],
   "source": [
    "idf_file = IDF(file_path)"
   ]
  },
  {
   "cell_type": "markdown",
   "id": "b700b8d8",
   "metadata": {},
   "source": [
    "All the information included in the IDF object created on the previous example ([1 - Creating a blank IDF](../Example1/blank_idf.ipynb)) is now in the `idf_file` object."
   ]
  },
  {
   "cell_type": "markdown",
   "id": "c2f035fe",
   "metadata": {},
   "source": [
    "## Editing"
   ]
  },
  {
   "cell_type": "markdown",
   "id": "c890d961",
   "metadata": {},
   "source": [
    "To edit a file, you can use the exact same methods used for creating a IDF file from scratch in [Example 1 - Creating a blank IDF](../Example1/blank_idf.ipynb). For instance, to change the beam energy, collection charge or the energy-channel calibration, you can do:"
   ]
  },
  {
   "cell_type": "code",
   "execution_count": 4,
   "id": "1ac07c71",
   "metadata": {},
   "outputs": [],
   "source": [
    "#change beam energy\n",
    "idf_file.set_beam_energy(1600)\n",
    "#change charge\n",
    "idf_file.set_charge(10)\n",
    "#change energy calibration\n",
    "idf_file.set_energy_calibration(2.5, 150)"
   ]
  },
  {
   "cell_type": "markdown",
   "id": "7b3ac4d6",
   "metadata": {},
   "source": [
    "## Save changes"
   ]
  },
  {
   "cell_type": "markdown",
   "id": "b32b46b2",
   "metadata": {},
   "source": [
    "It is important to have in mind that the information changed so far is only in the IDF object here and that the IDF file is unaltered. This is done to make it easy to recover the original data when mistakes are made. To do this o simply need to IDF reinitialise the object as above:\n",
    "\n",
    "    idf_file = IDF(file_path)\n",
    "    \n",
    "or create a new one\n",
    "\n",
    "    idf_file_original = IDF(file_path)\n",
    "    \n",
    "if you don't want to lose the changes already made.\n",
    "  \n",
    "To save it to the disk you can:\n",
    "\n",
    "1. overwrite the original file by pointing `save_idf()` to it (i.e. *save*):\n",
    "\n",
    "    idf_file.save_idf(file_path)\n",
    "    \n",
    "2. create a new file by pointing `save_idf()` to a new file (i.e. *save as*)\n",
    "\n",
    "    idf_file.save_idf(path_to_new_file)\n",
    "    \n",
    "    \n",
    "> Note: No warning is issued in case a file is being overwritten!\n",
    "    \n",
    "    \n",
    "Here we opt to create a new file:"
   ]
  },
  {
   "cell_type": "code",
   "execution_count": 5,
   "id": "dd5f0dff",
   "metadata": {},
   "outputs": [],
   "source": [
    "#set the path to the new IDF file:\n",
    "path_file_edited = '../Example3/idf_example3.xml'\n",
    "\n",
    "#save the edited IDF object to this file\n",
    "idf_file2 = idf_file.save_idf(path_file_edited)"
   ]
  },
  {
   "cell_type": "markdown",
   "id": "cdcb6336",
   "metadata": {},
   "source": [
    "Note that the `save_idf()` returns and IDF object corresponding to the IDF file just created, equivalent of doing:\n",
    "\n",
    "    idf_file_2 = IDF(path_file_edited)\n",
    "    \n",
    "after saving it."
   ]
  },
  {
   "cell_type": "markdown",
   "id": "2cbfd5ce",
   "metadata": {},
   "source": [
    "#  Dynamic editing"
   ]
  },
  {
   "cell_type": "markdown",
   "id": "710722e4",
   "metadata": {},
   "source": [
    "The above steps can, of course, be done dynamically. This possibility brings a lot of potential to the IDF format since it allows for editing parameters autonomosly in function of an analysis or other experiments results .\n",
    "  \n",
    "Another possibility is when there are multiple measurements of samples very similar to each other. In the following example, we create 20 IDF files for each RBS measurement performed at different points of a sample. We start with an IDF file created previously (for this exact file see Example [How to create IDFs from NDF files](../advanced_examples/Example_a5/creating_IDFs_from_NDF.ipynb)) and use it as a template for the remaining measurements."
   ]
  },
  {
   "cell_type": "markdown",
   "id": "a75517f1",
   "metadata": {},
   "source": [
    "## Setting the files parameters"
   ]
  },
  {
   "cell_type": "markdown",
   "id": "be054741",
   "metadata": {},
   "source": [
    "We first save the changed into a new IDF file:"
   ]
  },
  {
   "cell_type": "code",
   "execution_count": 6,
   "id": "5aced22c",
   "metadata": {},
   "outputs": [],
   "source": [
    "#set the path to the new IDF file:\n",
    "path_file_temp = '../Example3/idf_example3_1.xml'\n",
    "\n",
    "#save the edited IDF object to this file\n",
    "idf_file = idf_file.save_idf(path_file_temp)"
   ]
  },
  {
   "cell_type": "markdown",
   "id": "642cbe5c",
   "metadata": {},
   "source": [
    "Afterwards, we set the path for the 10 files. In this case all the files have very similar names with only the last character (used as file ID ranging from 1 to 10) changing. Thus we can do the following:"
   ]
  },
  {
   "cell_type": "code",
   "execution_count": 7,
   "id": "4aa2afb3",
   "metadata": {
    "scrolled": true
   },
   "outputs": [
    {
     "data": {
      "text/plain": [
       "['raw_data_files/RBS1_2IN_P_1_n.odf',\n",
       " 'raw_data_files/RBS1_2IN_P_2_n.odf',\n",
       " 'raw_data_files/RBS1_2IN_P_3_n.odf',\n",
       " 'raw_data_files/RBS1_2IN_P_4_n.odf',\n",
       " 'raw_data_files/RBS1_2IN_P_5_n.odf',\n",
       " 'raw_data_files/RBS1_2IN_P_6_n.odf',\n",
       " 'raw_data_files/RBS1_2IN_P_7_n.odf',\n",
       " 'raw_data_files/RBS1_2IN_P_8_n.odf',\n",
       " 'raw_data_files/RBS1_2IN_P_9_n.odf',\n",
       " 'raw_data_files/RBS1_2IN_P_10_n.odf']"
      ]
     },
     "execution_count": 7,
     "metadata": {},
     "output_type": "execute_result"
    }
   ],
   "source": [
    "nfiles = 10\n",
    "file_names = ['raw_data_files/RBS1_2IN_P_%i_n.odf'%i for i in range(1, nfiles + 1)]\n",
    "\n",
    "#print file names\n",
    "file_names"
   ]
  },
  {
   "cell_type": "markdown",
   "id": "34dc093d",
   "metadata": {},
   "source": [
    "Otherwise, the files can be written out one by one into a list:\n",
    "\n",
    "    file_names = ['RBS1_2IN_P_1',\n",
    "                  'RBS1_2IN_P_2',\n",
    "                  ...\n",
    "                 ]\n",
    "                 "
   ]
  },
  {
   "cell_type": "markdown",
   "id": "b1cd149a",
   "metadata": {},
   "source": [
    "## Creating new IDF objects using the template"
   ]
  },
  {
   "cell_type": "markdown",
   "id": "bf79dd8d",
   "metadata": {},
   "source": [
    "We now can loop through each element of the `file_names` list and:\n",
    "1. create a copy of the original IDF object;\n",
    "2. change the spectrum on this new copy.\n",
    "\n",
    "For future use, we can also save the new IDFs in a list, below named of `list_idf_files`."
   ]
  },
  {
   "cell_type": "code",
   "execution_count": 8,
   "id": "4da0a81d",
   "metadata": {},
   "outputs": [],
   "source": [
    "list_idf_files = []\n",
    "\n",
    "#loop through the list of file names\n",
    "for file in file_names:\n",
    "    #make an identical copy of the IDF object\n",
    "    idf_file_new = idf_file.copy()\n",
    "    \n",
    "    #change the spectrum of new object\n",
    "    idf_file_new.set_spectrum_data_from_file(file)\n",
    "    \n",
    "    #save new file in the list for posterior use\n",
    "    list_idf_files.append(idf_file_new)    "
   ]
  },
  {
   "cell_type": "markdown",
   "id": "2619875f",
   "metadata": {},
   "source": [
    "> **Note**: that in the above, the `copy()` method is used to make a copy of `idf_file`. Remember that in python, the `=` operations does not copy objects but simply assigns a new variable to the same object. For instance,\n",
    "\n",
    "    idf_file1 = IDF()\n",
    "    idf_file2 = idf_file1\n",
    "\n",
    ">it assigning two variables (`idf_file1` and `idf_file2`) to the same `IDF()` object. This means that if we use one of the references the other is going to change as well, i.e.:\n",
    "\n",
    "    idf_file1.set_spectrum_data(channels, counts)\n",
    "\n",
    ">will also change the spectrum in `idf_file2` since both references point to the same object. To make a true copy of an object one needs to use the module `copy.deepcopy`, as it is implemented in `IDF.copy()`."
   ]
  },
  {
   "cell_type": "markdown",
   "id": "f9961596",
   "metadata": {},
   "source": [
    "We also want to add a note to save the position in which the measurement was performed. In this case, each measurement was made a distance of 5 mn from the one before long the x direction. There are multiple ways of defining a list with the positions. Here we use the `numpy.arange()`."
   ]
  },
  {
   "cell_type": "code",
   "execution_count": 9,
   "id": "61d094d0",
   "metadata": {},
   "outputs": [],
   "source": [
    "delta_x = 0\n",
    "\n",
    "#list through the list of IDF objects\n",
    "for idf in list_idf_files:\n",
    "    #append a note with the position\n",
    "    idf.set_note('x-position: %0.1f' %delta_x, append = True)\n",
    "    \n",
    "    #increment delta_x\n",
    "    delta_x += 0.5"
   ]
  },
  {
   "cell_type": "markdown",
   "id": "bbb7fc02",
   "metadata": {},
   "source": [
    "Note that you can also save variables directly to the IDF object. Those will not be saved into the IDF file by the `save_idf()`. For instance, in the above, it might be use full to store the position directly on the object for fast access:"
   ]
  },
  {
   "cell_type": "code",
   "execution_count": 10,
   "id": "47c91c13",
   "metadata": {},
   "outputs": [],
   "source": [
    "delta_x = 0\n",
    "\n",
    "#list through the list of IDF objects\n",
    "for idf in list_idf_files:\n",
    "    #add the x-position directly to each IDF object\n",
    "    idf.delta_x = delta_x\n",
    "    delta_x += 0.5    "
   ]
  },
  {
   "cell_type": "markdown",
   "id": "9fe573ef",
   "metadata": {},
   "source": [
    "## Checking the loaded spectra"
   ]
  },
  {
   "cell_type": "markdown",
   "id": "7f35f9ce",
   "metadata": {},
   "source": [
    "We can use matplotlib to do a quick plot the entire spectra set. We can also retrieve the original file name and the position and use them as labels in the plot.\n",
    "  \n",
    "We first import the matplotlib library:"
   ]
  },
  {
   "cell_type": "code",
   "execution_count": 11,
   "id": "c3e89f57",
   "metadata": {},
   "outputs": [],
   "source": [
    "#import the plotting library\n",
    "import matplotlib.pyplot as plt\n",
    "# %matplotlib notebook\n",
    "plt.rcParams.update({'font.size': 12})"
   ]
  },
  {
   "cell_type": "markdown",
   "id": "c2302e0c",
   "metadata": {},
   "source": [
    "Then, we loop through each IDF object in the list `list_idf_files` (containing our new spectra), plotting the corresponding spectrum:"
   ]
  },
  {
   "cell_type": "code",
   "execution_count": 12,
   "id": "1a2bf895",
   "metadata": {
    "tags": [
     "nbsphinx-thumbnail"
    ]
   },
   "outputs": [
    {
     "data": {
      "image/png": "[encoded data removed]",
      "text/plain": [
       "<Figure size 576x432 with 1 Axes>"
      ]
     },
     "metadata": {
      "needs_background": "light"
     },
     "output_type": "display_data"
    }
   ],
   "source": [
    "#create a figure\n",
    "plt.figure(figsize=(8,6))\n",
    "\n",
    "#loop through each idf object in the list\n",
    "for idf in list_idf_files:\n",
    "    #get the file name for labeling\n",
    "    name = idf.get_spectrum_file_name()\n",
    "    #reduce the name to the essencial information\n",
    "    name = name[5:-6]\n",
    "    #add the x-position to the name\n",
    "    name = name + ' - %.1f mm' %idf.delta_x\n",
    "    \n",
    "    \n",
    "    #get the channels and counts\n",
    "    xx, yy = idf.get_dataxy()\n",
    "    \n",
    "    #plot\n",
    "    plt.plot(xx, yy, label = name)\n",
    "    \n",
    "#set plot details\n",
    "plt.xlim(20, 650)\n",
    "plt.ylim(-0.1,1.1)\n",
    "plt.legend(ncol = 2, frameon = False)\n",
    "plt.xlabel('Energy (Channels)')\n",
    "plt.ylabel('Counts (Arb. Units)')\n",
    "plt.tight_layout()"
   ]
  },
  {
   "cell_type": "markdown",
   "id": "d336be08",
   "metadata": {},
   "source": [
    "## Saving the new IDF objects"
   ]
  },
  {
   "cell_type": "markdown",
   "id": "e908a771",
   "metadata": {},
   "source": [
    "So far, the IDFs created here are not saved into the disk. As previously (see [Save changes](#Save-changes) above), we use `save_idf()` to do this:"
   ]
  },
  {
   "cell_type": "code",
   "execution_count": 13,
   "id": "fd1ad557",
   "metadata": {},
   "outputs": [
    {
     "name": "stdout",
     "output_type": "stream",
     "text": [
      "RBS1_2IN_P_1_n.xml\n",
      "RBS1_2IN_P_2_n.xml\n",
      "RBS1_2IN_P_3_n.xml\n",
      "RBS1_2IN_P_4_n.xml\n",
      "RBS1_2IN_P_5_n.xml\n",
      "RBS1_2IN_P_6_n.xml\n",
      "RBS1_2IN_P_7_n.xml\n",
      "RBS1_2IN_P_8_n.xml\n",
      "RBS1_2IN_P_9_n.xml\n",
      "RBS1_2IN_P_10_n.xml\n"
     ]
    }
   ],
   "source": [
    "#loop through each idf object in the list\n",
    "for file in list_idf_files:\n",
    "    #change the original extension 'odf' to 'xml' (or define your own name scheme)\n",
    "    path_save = file.get_spectrum_file_name()[:-4] + '.xml'\n",
    "    \n",
    "    #save the IDF object to disk\n",
    "    file.save_idf(path_save)\n",
    "    \n",
    "    #print the name of the new files\n",
    "    print(path_save)"
   ]
  },
  {
   "cell_type": "markdown",
   "id": "718164c0",
   "metadata": {},
   "source": [
    "## Notes:"
   ]
  },
  {
   "cell_type": "markdown",
   "id": "621c3d00",
   "metadata": {},
   "source": [
    "The above process combines groups the spectrum and the related details in a single file. Despite useful, this is still quite inefficient in terms of data management since we still have 10 files for what is essentially the same experiment. In the next Example ([4- Adding multiple spectra to a IDF file](../Example4/muitple_spectra_IDF.ipynb)) we will see how it is possible to group the 10 measurements under a single IDF file."
   ]
  }
 ],
 "metadata": {
  "hide_input": false,
  "kernelspec": {
   "display_name": "Python 3",
   "language": "python",
   "name": "python3"
  },
  "language_info": {
   "codemirror_mode": {
    "name": "ipython",
    "version": 3
   },
   "file_extension": ".py",
   "mimetype": "text/x-python",
   "name": "python",
   "nbconvert_exporter": "python",
   "pygments_lexer": "ipython3",
   "version": "3.10.12"
  },
  "toc": {
   "base_numbering": 1,
   "nav_menu": {},
   "number_sections": true,
   "sideBar": true,
   "skip_h1_title": false,
   "title_cell": "Table of Contents",
   "title_sidebar": "Contents",
   "toc_cell": false,
   "toc_position": {
    "height": "calc(100% - 180px)",
    "left": "10px",
    "top": "150px",
    "width": "275.2px"
   },
   "toc_section_display": true,
   "toc_window_display": true
  }
 },
 "nbformat": 4,
 "nbformat_minor": 5
}
