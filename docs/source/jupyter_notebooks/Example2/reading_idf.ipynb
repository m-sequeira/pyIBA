{
 "cells": [
  {
   "cell_type": "markdown",
   "id": "38dd66f8",
   "metadata": {},
   "source": [
    "# 2 - Reading an IDF file"
   ]
  },
  {
   "cell_type": "markdown",
   "id": "6de6c8d8",
   "metadata": {},
   "source": [
    "As before, load the pyIBA library"
   ]
  },
  {
   "cell_type": "code",
   "execution_count": 1,
   "id": "bc642bd9",
   "metadata": {},
   "outputs": [],
   "source": [
    "# if pyIBA has been installed with pip3,\n",
    "# the above 4 lines can be removed\n",
    "import sys\n",
    "from os.path import abspath\n",
    "path_pyIBA = abspath('../../../..')\n",
    "sys.path.insert(0, path_pyIBA)\n",
    "\n",
    "# import pyIBA\n",
    "from pyIBA import IDF"
   ]
  },
  {
   "cell_type": "markdown",
   "id": "99dc12d2",
   "metadata": {},
   "source": [
    "## Loading the file"
   ]
  },
  {
   "cell_type": "markdown",
   "id": "67870cce",
   "metadata": {},
   "source": [
    "[Example 1 - Creating a blank IDF](../Example1/blank_idf.ipynb) demonstrated how to create an IDF file from raw data. Here we show how to edit/inspect an exiting IDF file. We use the file created previously:"
   ]
  },
  {
   "cell_type": "code",
   "execution_count": 2,
   "id": "c4ecb9fc",
   "metadata": {},
   "outputs": [],
   "source": [
    "file_path = '../Example1/idf_example1.xml'"
   ]
  },
  {
   "cell_type": "markdown",
   "id": "d7a44520",
   "metadata": {},
   "source": [
    "and load it when creating the IDF object:"
   ]
  },
  {
   "cell_type": "code",
   "execution_count": 3,
   "id": "8ca54373",
   "metadata": {},
   "outputs": [],
   "source": [
    "idf_file = IDF(file_path)"
   ]
  },
  {
   "cell_type": "markdown",
   "id": "b700b8d8",
   "metadata": {},
   "source": [
    "All the information included in the IDF object created on the previous example ([1 - Creating a blank IDF](../Example1/blank_idf.ipynb)) is now in the `idf_file` object."
   ]
  },
  {
   "cell_type": "markdown",
   "id": "209ab0e5",
   "metadata": {},
   "source": [
    "## The notes"
   ]
  },
  {
   "cell_type": "markdown",
   "id": "74d0cc5e",
   "metadata": {},
   "source": [
    "Perhaps the first thing to read are the notes:"
   ]
  },
  {
   "cell_type": "code",
   "execution_count": 4,
   "id": "9a591789",
   "metadata": {},
   "outputs": [
    {
     "name": "stdout",
     "output_type": "stream",
     "text": [
      "This file was created during Example 1, it relates to a RBS measurement of a CoPt/SiO2 sample.\n",
      "Something I did after the first note\n",
      "Created by Miguel Sequeira\n"
     ]
    }
   ],
   "source": [
    "notes = idf_file.get_notes()\n",
    "\n",
    "for note in notes:\n",
    "    print(note)\n",
    "    \n",
    "print('Created by', idf_file.get_user())"
   ]
  },
  {
   "cell_type": "markdown",
   "id": "87c00b77",
   "metadata": {},
   "source": [
    "## The beam parameters"
   ]
  },
  {
   "cell_type": "markdown",
   "id": "ce1b1286",
   "metadata": {},
   "source": [
    "To get the entire set of beam parameters, we can use the `idf_file.get_geo_parameters()`:"
   ]
  },
  {
   "cell_type": "code",
   "execution_count": 5,
   "id": "f3a6f406",
   "metadata": {},
   "outputs": [
    {
     "data": {
      "text/plain": [
       "{'mode': 19,\n",
       " 'window': [100, 1500],\n",
       " 'projectile': '4He',\n",
       " 'beam_energy': 2000.0,\n",
       " 'beam_FWHM': 20.0,\n",
       " 'geometry': 'IBM',\n",
       " 'angles': ['30', '140'],\n",
       " 'dect_solid': '11',\n",
       " 'energy_calib': [2.28, 105.5],\n",
       " 'charge': '5'}"
      ]
     },
     "execution_count": 5,
     "metadata": {},
     "output_type": "execute_result"
    }
   ],
   "source": [
    "idf_file.get_geo_parameters()"
   ]
  },
  {
   "cell_type": "markdown",
   "id": "0e71225a",
   "metadata": {},
   "source": [
    "Note that each of this parameters can be obtained individually. For instance, the beam energy and FWHM we can be retrieved using"
   ]
  },
  {
   "cell_type": "code",
   "execution_count": 6,
   "id": "59c4f617",
   "metadata": {},
   "outputs": [
    {
     "name": "stdout",
     "output_type": "stream",
     "text": [
      "Energy: 2000.0 keV\n",
      "FWHM  : 20.0 keV\n"
     ]
    }
   ],
   "source": [
    "energy, FWHM = idf_file.get_beam_energy()\n",
    "\n",
    "print('Energy: %0.1f keV' %energy)\n",
    "print('FWHM  : %0.1f keV' %FWHM)"
   ]
  },
  {
   "cell_type": "markdown",
   "id": "168f9efa",
   "metadata": {},
   "source": [
    "or, similarly, for the geometry of the experiment:"
   ]
  },
  {
   "cell_type": "code",
   "execution_count": 7,
   "id": "aba658e3",
   "metadata": {},
   "outputs": [
    {
     "data": {
      "text/plain": [
       "('IBM', ['30', '140'], None)"
      ]
     },
     "execution_count": 7,
     "metadata": {},
     "output_type": "execute_result"
    }
   ],
   "source": [
    "idf_file.get_geometry_type()"
   ]
  },
  {
   "cell_type": "markdown",
   "id": "f31b4faf",
   "metadata": {},
   "source": [
    "Please refer to `help(idf_file.get_geo_parameters)` to find all the individual methods"
   ]
  },
  {
   "cell_type": "code",
   "execution_count": 8,
   "id": "ae99f974",
   "metadata": {},
   "outputs": [
    {
     "name": "stdout",
     "output_type": "stream",
     "text": [
      "Help on method get_geo_parameters in module pyIBA.main_idf:\n",
      "\n",
      "get_geo_parameters(spectra_id=0) method of pyIBA.IDF.IDF instance\n",
      "    Gets the entire set of parameters in a dictionary with the following format::\n",
      "            \n",
      "            params = {\n",
      "                    'mode': 19,\n",
      "                    'window': [100, 1500],\n",
      "                    'projectile': 'He',\n",
      "                    'beam_energy': 2000,\n",
      "                    'beam_FWHM': 17,\n",
      "                    'geometry': 'ibm',\n",
      "                    'angles': [0, 160], # [incident, scattering]\n",
      "                    'dect_solid': 7.2,\n",
      "                    'energy_calib': [1, 0], # [m, b], E = m * channel + b,\n",
      "                    'charge': 5           \n",
      "            }\n",
      "    \n",
      "    Each of these parameters can be obtained individually using the appropriate methods::\n",
      "    \n",
      "            params['window']= [self.get_window_min(), self.get_window_max()]\n",
      "            params['projectile'] = self.get_beam_particles()\n",
      "            params['beam_energy'], params['beam_FWHM'] = self.get_beam_energy()\n",
      "            params['geometry'], params['angles'], _ = self.get_geometry_type()\n",
      "            params['dect_solid'] = self.get_detector()\n",
      "            params['energy_calib'] = self.get_energy_calibration()\n",
      "            params['charge'] = self.get_charge()\n",
      "    \n",
      "    Args:\n",
      "            spectra_id (int, optional): ID of the spectrum\n",
      "    \n",
      "    Returns:\n",
      "            dictionary or None: Dictionary with the geometry parameters\n",
      "    \n",
      "    Raises:\n",
      "            e: If data is missing\n",
      "\n"
     ]
    }
   ],
   "source": [
    "help(idf_file.get_geo_parameters)"
   ]
  },
  {
   "cell_type": "markdown",
   "id": "c3d9f379",
   "metadata": {},
   "source": [
    "## The spectrum"
   ]
  },
  {
   "cell_type": "markdown",
   "id": "caca4160",
   "metadata": {},
   "source": [
    "To get the spectrum from the file, you simple need to run:"
   ]
  },
  {
   "cell_type": "code",
   "execution_count": 9,
   "id": "7ba9ea09",
   "metadata": {},
   "outputs": [],
   "source": [
    "xx, yy = idf_file.get_dataxy()"
   ]
  },
  {
   "cell_type": "markdown",
   "id": "05e986d0",
   "metadata": {},
   "source": [
    "Now, for instance if you want to print it using `matplotlib`:"
   ]
  },
  {
   "cell_type": "code",
   "execution_count": 10,
   "id": "d9bf5b64",
   "metadata": {
    "tags": [
     "nbsphinx-thumbnail"
    ]
   },
   "outputs": [
    {
     "data": {
      "image/png": "[encoded data removed]",
      "text/plain": [
       "<Figure size 576x432 with 1 Axes>"
      ]
     },
     "metadata": {
      "needs_background": "light"
     },
     "output_type": "display_data"
    }
   ],
   "source": [
    "#import matplotlib and increase the font size\n",
    "import matplotlib.pyplot as plt\n",
    "plt.rcParams.update({'font.size': 14})\n",
    "\n",
    "#get the name of the file to use as label in the plot\n",
    "name_file = idf_file.get_spectrum_file_name()\n",
    "\n",
    "#create and plot the spectrum\n",
    "plt.figure(figsize = (8,6))\n",
    "plt.plot(xx, yy, label = name_file)\n",
    "\n",
    "plt.xlabel('Channels')\n",
    "plt.ylabel('Counts')\n",
    "plt.legend();"
   ]
  },
  {
   "cell_type": "markdown",
   "id": "cc1f05bb",
   "metadata": {},
   "source": [
    "## The sample details"
   ]
  },
  {
   "cell_type": "markdown",
   "id": "c0f1a73f",
   "metadata": {},
   "source": [
    "To get the elements in the sample, we run `idf_file.get_elements()` to get a dictionary similar to the one defined in [Example 1 - Creating a blank IDF](../Example1/blank_idf.ipynb#Elements) and used as input in `idf_file.set_elements()`."
   ]
  },
  {
   "cell_type": "code",
   "execution_count": 11,
   "id": "db6b0d2f",
   "metadata": {},
   "outputs": [
    {
     "data": {
      "text/plain": [
       "{'nelements': 3,\n",
       " 0: {'name': 'Co 1 Pt 1',\n",
       "  'density': '',\n",
       "  'concentration': ['0', '1'],\n",
       "  'depth': ['0', '1000']},\n",
       " 1: {'name': 'Si 1 O 2',\n",
       "  'density': '',\n",
       "  'concentration': ['0', '1'],\n",
       "  'depth': ['0', '1000']},\n",
       " 2: {'name': 'Si',\n",
       "  'density': '',\n",
       "  'concentration': ['0', '1'],\n",
       "  'depth': ['300', '1e6']}}"
      ]
     },
     "execution_count": 11,
     "metadata": {},
     "output_type": "execute_result"
    }
   ],
   "source": [
    "idf_file.get_elements()"
   ]
  },
  {
   "cell_type": "markdown",
   "id": "c0fabeed",
   "metadata": {},
   "source": [
    "Similarly, to obtain the depth profile of the sample, we use `idf_file.get_profile()` (see [Example 1 - Creating a blank IDF](../Example1/blank_idf.ipynb#Depth-profile)):"
   ]
  },
  {
   "cell_type": "code",
   "execution_count": 12,
   "id": "37ac123c",
   "metadata": {},
   "outputs": [
    {
     "data": {
      "text/plain": [
       "{'nlayers': 2,\n",
       " 'names': ['Co 1 Pt 1', 'Si 1 O 2', 'Si'],\n",
       " 0: {'thickness': '390', 'concentrations': ['100', '0', '0']},\n",
       " 1: {'thickness': '550', 'concentrations': ['0', '100', '0']},\n",
       " 2: {'thickness': '4000000', 'concentrations': ['0', '0', '100']}}"
      ]
     },
     "execution_count": 12,
     "metadata": {},
     "output_type": "execute_result"
    }
   ],
   "source": [
    "idf_file.get_profile()"
   ]
  },
  {
   "cell_type": "markdown",
   "id": "63a0779d",
   "metadata": {},
   "source": [
    "## Quick check"
   ]
  },
  {
   "cell_type": "markdown",
   "id": "2a5f3b94",
   "metadata": {},
   "source": [
    "If you want to print out the information on the file, in a text fashion (i.e. without possibility of changing the values), you can use `print_idf_file()` (see also [Example 1](../Example1/blank_idf.ipynb#Checking-the-file) and [Example A2](../advanced_examples/Example_a2/IDFViewer_pyIBA.ipynb))."
   ]
  },
  {
   "cell_type": "code",
   "execution_count": 13,
   "id": "91435a32",
   "metadata": {},
   "outputs": [
    {
     "name": "stdout",
     "output_type": "stream",
     "text": [
      "=============== idf_example1 ===============\n",
      "../Example1/idf_example1.xml\n",
      "Miguel Sequeira \n",
      "\n",
      "------------------  Notes  ------------------\n",
      "This file was created during Example 1, it relates to a RBS measurement of a CoPt/SiO2 sample.\n",
      "Something I did after the first note\n",
      "\n",
      "------------------ Elements -----------------\n",
      "nelements \t 3\n",
      "\n",
      " - - - Element 0 - - -\n",
      "name \t\t Co 1 Pt 1\n",
      "density  \t \n",
      "concentration  \t ['0', '1']\n",
      "depth \t\t ['0', '1000']\n",
      "\n",
      " - - - Element 1 - - -\n",
      "name \t\t Si 1 O 2\n",
      "density  \t \n",
      "concentration  \t ['0', '1']\n",
      "depth \t\t ['0', '1000']\n",
      "\n",
      " - - - Element 2 - - -\n",
      "name \t\t Si\n",
      "density  \t \n",
      "concentration  \t ['0', '1']\n",
      "depth \t\t ['300', '1e6']\n",
      "\n",
      "------------------ Profile -----------------\n",
      "nlayers \t\t 2\n",
      "names \t\t ['Co 1 Pt 1', 'Si 1 O 2', 'Si']\n",
      "\n",
      " - - - Layer 0 - - -\n",
      "thickness \t\t 390\n",
      "concentrations  \t ['100', '0', '0']\n",
      "\n",
      " - - - Layer 1 - - -\n",
      "thickness \t\t 550\n",
      "concentrations  \t ['0', '100', '0']\n",
      "\n",
      " - - - Layer 2 - - -\n",
      "thickness \t\t 4000000\n",
      "concentrations  \t ['0', '0', '100']\n",
      "\n",
      "\n",
      "\n",
      "-------- Spectrum 0 (RBS2PT50CO50_30.odf) --------\n",
      "Technique \tRBS\n",
      "\n",
      "Mode \t\t 19\n",
      "Window  \t [100, 1500]\n",
      "Projectile  \t 4He\n",
      "Beam energy  \t 2000.0\n",
      "Beam fwhm  \t 20.0\n",
      "Geometry  \t IBM\n",
      "Angles  \t ['30', '140']\n",
      "Dect solid  \t 11\n",
      "Energy calib  \t [2.28, 105.5]\n",
      "Charge  \t 5\n"
     ]
    },
    {
     "data": {
      "image/png": "[encoded data removed]",
      "text/plain": [
       "<Figure size 432x288 with 1 Axes>"
      ]
     },
     "metadata": {
      "needs_background": "light"
     },
     "output_type": "display_data"
    }
   ],
   "source": [
    "idf_file.print_idf_file()"
   ]
  },
  {
   "cell_type": "code",
   "execution_count": null,
   "id": "9fabfe57",
   "metadata": {},
   "outputs": [],
   "source": []
  }
 ],
 "metadata": {
  "hide_input": false,
  "kernelspec": {
   "display_name": "Python 3",
   "language": "python",
   "name": "python3"
  },
  "language_info": {
   "codemirror_mode": {
    "name": "ipython",
    "version": 3
   },
   "file_extension": ".py",
   "mimetype": "text/x-python",
   "name": "python",
   "nbconvert_exporter": "python",
   "pygments_lexer": "ipython3",
   "version": "3.8.10"
  },
  "toc": {
   "base_numbering": 1,
   "nav_menu": {},
   "number_sections": true,
   "sideBar": true,
   "skip_h1_title": false,
   "title_cell": "Table of Contents",
   "title_sidebar": "Contents",
   "toc_cell": false,
   "toc_position": {
    "height": "calc(100% - 180px)",
    "left": "10px",
    "top": "150px",
    "width": "275.2px"
   },
   "toc_section_display": true,
   "toc_window_display": true
  }
 },
 "nbformat": 4,
 "nbformat_minor": 5
}
