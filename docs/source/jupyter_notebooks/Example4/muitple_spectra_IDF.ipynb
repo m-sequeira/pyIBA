{
 "cells": [
  {
   "cell_type": "markdown",
   "id": "8f2f8b8f",
   "metadata": {},
   "source": [
    "# 4 - Adding multiple spectra to a single IDF file"
   ]
  },
  {
   "cell_type": "markdown",
   "id": "5a2e9a37",
   "metadata": {},
   "source": [
    "In the previous example ([3 - Editing an IDF file - Dynamic Editing](../Example3/editing_idf.ipynb#Dynamic-editing)), we saw how it is possible to create a new IDF file based on a template. However, we still ended with several files that were related to the same experiment. In terms of data management and sharing, it is trivially advantageous to have a single file for each experiment. Here, we take over the previous example and exemplify how we can introduce the new spectra into the initial IDF file (named *template* in Example 3)."
   ]
  },
  {
   "cell_type": "markdown",
   "id": "4b12e3be",
   "metadata": {},
   "source": [
    "## Specifying data paths"
   ]
  },
  {
   "cell_type": "markdown",
   "id": "97761370",
   "metadata": {},
   "source": [
    "The first step of this example is identical to that of [Example 3 - Setting the files parameters](../Example3/editing_idf.ipynb#Setting-the-files-parameters):"
   ]
  },
  {
   "cell_type": "code",
   "execution_count": 1,
   "id": "159958e9",
   "metadata": {},
   "outputs": [],
   "source": [
    "import sys\n",
    "sys.path.insert(0, '/home/msequeira/Dropbox/CTN/Radiate/IDF_python/GUI/test/')\n",
    "\n",
    "from pyIBA import IDF"
   ]
  },
  {
   "cell_type": "code",
   "execution_count": 2,
   "id": "bf2ea4e6",
   "metadata": {},
   "outputs": [],
   "source": [
    "#set the path to the new IDF file:\n",
    "path_file= '../Example3/idf_example3_1.xml'\n",
    "\n",
    "#save the edited IDF object to this file\n",
    "idf_file = IDF(path_file)\n",
    "\n",
    "nfiles = 10\n",
    "file_names = ['../Example3/raw_data_files/RBS1_2IN_P_%i_n.odf'%i for i in range(1, nfiles + 1)]"
   ]
  },
  {
   "cell_type": "markdown",
   "id": "d5202e53",
   "metadata": {},
   "source": [
    "## Loading the data"
   ]
  },
  {
   "cell_type": "markdown",
   "id": "c0a31f8a",
   "metadata": {},
   "source": [
    "As mentioned above, in this example, we are adding 10 new spectra to the original IDF file. In fact, this is not only more efficient in the context of data management but also in coding. As shown below, we can add an infinite number of spectra (under the OS memory constraints) with 3 lines of code.\n",
    "\n",
    "The main method is the already used `set_spectrum_data_from_file()`. However, the difference is that until now, we have used the default value `spectra_id = 0`. This means that data has been loaded to the same spectrum entry in the IDF object. To add more spectra to the IDF file, we first need to increase the total number of spectra entries and then change the `spectra_id` to a unique number."
   ]
  },
  {
   "cell_type": "code",
   "execution_count": 3,
   "id": "96404589",
   "metadata": {},
   "outputs": [],
   "source": [
    "#change the number of spectrum in the file to 10 (nfiles value)\n",
    "idf_file.append_spectrum_entry(nfiles)\n",
    "\n",
    "#loop through the file_names list\n",
    "for i, file in enumerate(file_names):\n",
    "    #set data of spectrum spectra_id = i\n",
    "    idf_file.set_spectrum_data_from_file(file, spectra_id = i)"
   ]
  },
  {
   "cell_type": "markdown",
   "id": "5e11d3f6",
   "metadata": {},
   "source": [
    ">Note: The `enumerate` function is used to output the index (above called *i*) of the item currently in the loop. This index is then used as the spectrum ID.\n",
    "  \n",
    "The new spectra section in the IDF object does not have the geometry parameters defined yet. To copy this information from `spectra = 0` to all the entire spectra set we do:"
   ]
  },
  {
   "cell_type": "code",
   "execution_count": 4,
   "id": "432a0674",
   "metadata": {},
   "outputs": [],
   "source": [
    "idf_file.unify_geo_parameters(master_id = 0)"
   ]
  },
  {
   "cell_type": "markdown",
   "id": "97648fdc",
   "metadata": {},
   "source": [
    "As in Example 3, we also want to save the x-position of the measurement in the sample. Before, we added it as a note. Instead, here we will save it by manually defining the filename of each spectrum using `set_spectrum_file_name(name)`:"
   ]
  },
  {
   "cell_type": "code",
   "execution_count": 5,
   "id": "e0ffdd90",
   "metadata": {},
   "outputs": [],
   "source": [
    "#define the origin of the x-position\n",
    "delta_x = 0\n",
    "\n",
    "#loop through the file_names list\n",
    "for i, file in enumerate(file_names):\n",
    "    #define the string to be saved as file name\n",
    "    name = 'x-position: %0.1f mn' %delta_x\n",
    "    \n",
    "    #change the name of spectra_id = i\n",
    "    idf_file.set_spectrum_file_name(name, spectra_id = i)\n",
    "    \n",
    "    #increase the position\n",
    "    delta_x += 0.5"
   ]
  },
  {
   "cell_type": "markdown",
   "id": "721bf3d0",
   "metadata": {},
   "source": [
    "Note that the above loop can, and should, be included in the loop that loads the spectrum data (In [3])."
   ]
  },
  {
   "cell_type": "markdown",
   "id": "47540cc7",
   "metadata": {},
   "source": [
    "## Editing the parameters of individual spectrum"
   ]
  },
  {
   "cell_type": "markdown",
   "id": "354e7ecc",
   "metadata": {},
   "source": [
    "Every parameter related to each spectrum can be changed individually, even though being all in the same file. That can be done by adding the keyword `spectra_id = id of spectrum to be edited`  to the `set_` functions:\n",
    "\n",
    "```python\n",
    "    idf_file.set_beam_energy(2000, spectra_id = i)\n",
    "    idf_file.set_beam_energy_spread(20, spectra_id = i)\n",
    "    idf_file.set_beam_particles('4He', spectra_id = i)\n",
    "    idf_file.set_charge(5, spectra_id = i)\n",
    "    idf_file.set_geometry_type('IBM', spectra_id = i)\n",
    "    idf_file.set_incident_angle(30, spectra_id = i)\n",
    "    idf_file.set_scattering_angle(140, spectra_id = i)\n",
    "    idf_file.set_detector_solid_angle(11, spectra_id = i)\n",
    "    idf_file.set_energy_calibration(2, 100, spectra_id = i)\n",
    "```\n",
    "\n",
    "where *i* is the spectrum index we want to edit. An identical concept is used to get information from a specific spectrum. For instance, to get the energy calibration of spectra 4 we add the *spectra_id* keyword to the `set_` method:"
   ]
  },
  {
   "cell_type": "code",
   "execution_count": 6,
   "id": "613a9507",
   "metadata": {},
   "outputs": [
    {
     "data": {
      "text/plain": [
       "[4.25, 42.14]"
      ]
     },
     "execution_count": 6,
     "metadata": {},
     "output_type": "execute_result"
    }
   ],
   "source": [
    "idf_file.get_energy_calibration(spectra_id = 4)"
   ]
  },
  {
   "cell_type": "markdown",
   "id": "80c77830",
   "metadata": {},
   "source": [
    "In fact, we can get the entire set of parameters, using `get_geo_parameters()` as we did in [2 - Read IDF](../Example2/reading_idf.ipynb#The-beam-parameters), of a given spectrum:"
   ]
  },
  {
   "cell_type": "code",
   "execution_count": 7,
   "id": "c9533809",
   "metadata": {},
   "outputs": [
    {
     "data": {
      "text/plain": [
       "{'mode': 19,\n",
       " 'window': [100, 1500],\n",
       " 'projectile': '1H',\n",
       " 'beam_energy': 2300.0,\n",
       " 'beam_FWHM': 30.0,\n",
       " 'geometry': 'ibm',\n",
       " 'angles': ['0', '150'],\n",
       " 'dect_solid': '6.00',\n",
       " 'energy_calib': [4.25, 42.14],\n",
       " 'charge': '5'}"
      ]
     },
     "execution_count": 7,
     "metadata": {},
     "output_type": "execute_result"
    }
   ],
   "source": [
    "idf_file.get_geo_parameters(spectra_id = 4)"
   ]
  },
  {
   "cell_type": "markdown",
   "id": "eb337f8b",
   "metadata": {},
   "source": [
    "> **Note** that if you not are sure which index refers to the spectrum you want to change, you can retrieve the list with the indexes and file names by doing:"
   ]
  },
  {
   "cell_type": "code",
   "execution_count": 8,
   "id": "1e8cd1e6",
   "metadata": {},
   "outputs": [
    {
     "data": {
      "text/plain": [
       "['0: x-position: 0.0 mn',\n",
       " '1: x-position: 0.5 mn',\n",
       " '2: x-position: 1.0 mn',\n",
       " '3: x-position: 1.5 mn',\n",
       " '4: x-position: 2.0 mn',\n",
       " '5: x-position: 2.5 mn',\n",
       " '6: x-position: 3.0 mn',\n",
       " '7: x-position: 3.5 mn',\n",
       " '8: x-position: 4.0 mn',\n",
       " '9: x-position: 4.5 mn']"
      ]
     },
     "execution_count": 8,
     "metadata": {},
     "output_type": "execute_result"
    }
   ],
   "source": [
    "idf_file.get_all_spectra_filenames()"
   ]
  },
  {
   "cell_type": "markdown",
   "id": "24fffa56",
   "metadata": {},
   "source": [
    "## Plot spectrum contained in a single file"
   ]
  },
  {
   "cell_type": "code",
   "execution_count": 9,
   "id": "cce78a84",
   "metadata": {},
   "outputs": [],
   "source": [
    "import matplotlib.pyplot as plt\n",
    "# %matplotlib notebook\n",
    "plt.rcParams.update({'font.size': 12})"
   ]
  },
  {
   "cell_type": "code",
   "execution_count": 10,
   "id": "33115d80",
   "metadata": {
    "tags": [
     "nbsphinx-thumbnail"
    ]
   },
   "outputs": [
    {
     "data": {
      "image/png": "[encoded data removed]",
      "text/plain": [
       "<Figure size 576x432 with 1 Axes>"
      ]
     },
     "metadata": {
      "needs_background": "light"
     },
     "output_type": "display_data"
    }
   ],
   "source": [
    "plt.figure(figsize=(8,6))\n",
    "\n",
    "nspectra = idf_file.get_number_of_spectra()\n",
    "\n",
    "for i in range(0, nspectra):\n",
    "    #get the channels and counts\n",
    "    xx, yy = idf_file.get_dataxy(spectra_id = i)\n",
    "    \n",
    "    name = idf_file.get_spectrum_file_name(spectra_id = i)\n",
    "    \n",
    "    #plot\n",
    "    plt.plot(xx, yy, label = name)\n",
    "    \n",
    "#set plot details\n",
    "plt.xlim(20, 650)\n",
    "plt.ylim(-0.1,1.1)\n",
    "plt.legend(ncol = 2, frameon = False)\n",
    "plt.xlabel('Energy (Channels)')\n",
    "plt.ylabel('Counts (Arb. Units)')\n",
    "plt.tight_layout()"
   ]
  },
  {
   "cell_type": "markdown",
   "id": "e80c7cf6",
   "metadata": {},
   "source": [
    "##"
   ]
  },
  {
   "cell_type": "code",
   "execution_count": 11,
   "id": "8c716741",
   "metadata": {
    "scrolled": false
   },
   "outputs": [
    {
     "name": "stdout",
     "output_type": "stream",
     "text": [
      "=============== idf_example3_1 ===============\n",
      "../Example3/idf_example3_1.xml\n",
      " \n",
      "\n",
      "------------------  Notes  ------------------\n",
      "\n",
      "\n",
      "------------------ Elements -----------------\n",
      "nelements \t 11\n",
      "\n",
      " - - - Element 0 - - -\n",
      "name \t\t 2 H\n",
      "density  \t \n",
      "concentration  \t ['0', '0']\n",
      "depth \t\t ['0', '0.25']\n",
      "\n",
      " - - - Element 1 - - -\n",
      "name \t\t Be\n",
      "density  \t \n",
      "concentration  \t ['0', '0']\n",
      "depth \t\t ['0', '0.10']\n",
      "\n",
      " - - - Element 2 - - -\n",
      "name \t\t 12 C\n",
      "density  \t \n",
      "concentration  \t ['0', '0']\n",
      "depth \t\t ['0', '0.2']\n",
      "\n",
      " - - - Element 3 - - -\n",
      "name \t\t O\n",
      "density  \t \n",
      "concentration  \t ['0', '0']\n",
      "depth \t\t ['0', '0.1']\n",
      "\n",
      " - - - Element 4 - - -\n",
      "name \t\t Cr\n",
      "density  \t \n",
      "concentration  \t ['0', '0']\n",
      "depth \t\t ['0', '0.01']\n",
      "\n",
      " - - - Element 5 - - -\n",
      "name \t\t Mn\n",
      "density  \t \n",
      "concentration  \t ['0', '0']\n",
      "depth \t\t ['0', '.01']\n",
      "\n",
      " - - - Element 6 - - -\n",
      "name \t\t Fe\n",
      "density  \t \n",
      "concentration  \t ['0', '0']\n",
      "depth \t\t ['0', '.01']\n",
      "\n",
      " - - - Element 7 - - -\n",
      "name \t\t Ni\n",
      "density  \t \n",
      "concentration  \t ['0', '0']\n",
      "depth \t\t ['0', '.01']\n",
      "\n",
      " - - - Element 8 - - -\n",
      "name \t\t Cu\n",
      "density  \t \n",
      "concentration  \t ['0', '0']\n",
      "depth \t\t ['0', '.01']\n",
      "\n",
      " - - - Element 9 - - -\n",
      "name \t\t W\n",
      "density  \t \n",
      "concentration  \t ['0', '0']\n",
      "depth \t\t ['0', '.01']\n",
      "\n",
      " - - - Element 10 - - -\n",
      "name \t\t Si\n",
      "density  \t \n",
      "concentration  \t ['0', '0']\n",
      "depth \t\t ['s', '0']\n",
      "\n",
      "\n",
      "\n",
      "-------- Spectrum 0 (x-position: 0.0 mn) --------\n",
      "Technique \tRBS\n",
      "\n",
      "Mode \t\t 19\n",
      "Window  \t ['40', '600']\n",
      "Projectile  \t 1H\n",
      "Beam energy  \t 2300.0\n",
      "Beam fwhm  \t 30.0\n",
      "Geometry  \t ibm\n",
      "Angles  \t ['0', '150']\n",
      "Dect solid  \t 6.00\n",
      "Energy calib  \t [4.25, 42.14]\n",
      "Charge  \t 5\n",
      "-------- Spectrum 1 (x-position: 0.5 mn) --------\n",
      "Technique \tRBS\n",
      "\n",
      "Mode \t\t 19\n",
      "Window  \t [100, 1500]\n",
      "Projectile  \t 1H\n",
      "Beam energy  \t 2300.0\n",
      "Beam fwhm  \t 30.0\n",
      "Geometry  \t ibm\n",
      "Angles  \t ['0', '150']\n",
      "Dect solid  \t 6.00\n",
      "Energy calib  \t [4.25, 42.14]\n",
      "Charge  \t 5\n",
      "-------- Spectrum 2 (x-position: 1.0 mn) --------\n",
      "Technique \tRBS\n",
      "\n",
      "Mode \t\t 19\n",
      "Window  \t [100, 1500]\n",
      "Projectile  \t 1H\n",
      "Beam energy  \t 2300.0\n",
      "Beam fwhm  \t 30.0\n",
      "Geometry  \t ibm\n",
      "Angles  \t ['0', '150']\n",
      "Dect solid  \t 6.00\n",
      "Energy calib  \t [4.25, 42.14]\n",
      "Charge  \t 5\n",
      "-------- Spectrum 3 (x-position: 1.5 mn) --------\n",
      "Technique \tRBS\n",
      "\n",
      "Mode \t\t 19\n",
      "Window  \t [100, 1500]\n",
      "Projectile  \t 1H\n",
      "Beam energy  \t 2300.0\n",
      "Beam fwhm  \t 30.0\n",
      "Geometry  \t ibm\n",
      "Angles  \t ['0', '150']\n",
      "Dect solid  \t 6.00\n",
      "Energy calib  \t [4.25, 42.14]\n",
      "Charge  \t 5\n",
      "-------- Spectrum 4 (x-position: 2.0 mn) --------\n",
      "Technique \tRBS\n",
      "\n",
      "Mode \t\t 19\n",
      "Window  \t [100, 1500]\n",
      "Projectile  \t 1H\n",
      "Beam energy  \t 2300.0\n",
      "Beam fwhm  \t 30.0\n",
      "Geometry  \t ibm\n",
      "Angles  \t ['0', '150']\n",
      "Dect solid  \t 6.00\n",
      "Energy calib  \t [4.25, 42.14]\n",
      "Charge  \t 5\n",
      "-------- Spectrum 5 (x-position: 2.5 mn) --------\n",
      "Technique \tRBS\n",
      "\n",
      "Mode \t\t 19\n",
      "Window  \t [100, 1500]\n",
      "Projectile  \t 1H\n",
      "Beam energy  \t 2300.0\n",
      "Beam fwhm  \t 30.0\n",
      "Geometry  \t ibm\n",
      "Angles  \t ['0', '150']\n",
      "Dect solid  \t 6.00\n",
      "Energy calib  \t [4.25, 42.14]\n",
      "Charge  \t 5\n",
      "-------- Spectrum 6 (x-position: 3.0 mn) --------\n",
      "Technique \tRBS\n",
      "\n",
      "Mode \t\t 19\n",
      "Window  \t [100, 1500]\n",
      "Projectile  \t 1H\n",
      "Beam energy  \t 2300.0\n",
      "Beam fwhm  \t 30.0\n",
      "Geometry  \t ibm\n",
      "Angles  \t ['0', '150']\n",
      "Dect solid  \t 6.00\n",
      "Energy calib  \t [4.25, 42.14]\n",
      "Charge  \t 5\n",
      "-------- Spectrum 7 (x-position: 3.5 mn) --------\n",
      "Technique \tRBS\n",
      "\n",
      "Mode \t\t 19\n",
      "Window  \t [100, 1500]\n",
      "Projectile  \t 1H\n",
      "Beam energy  \t 2300.0\n",
      "Beam fwhm  \t 30.0\n",
      "Geometry  \t ibm\n",
      "Angles  \t ['0', '150']\n",
      "Dect solid  \t 6.00\n",
      "Energy calib  \t [4.25, 42.14]\n",
      "Charge  \t 5\n",
      "-------- Spectrum 8 (x-position: 4.0 mn) --------\n",
      "Technique \tRBS\n",
      "\n",
      "Mode \t\t 19\n",
      "Window  \t [100, 1500]\n",
      "Projectile  \t 1H\n",
      "Beam energy  \t 2300.0\n",
      "Beam fwhm  \t 30.0\n",
      "Geometry  \t ibm\n",
      "Angles  \t ['0', '150']\n",
      "Dect solid  \t 6.00\n",
      "Energy calib  \t [4.25, 42.14]\n",
      "Charge  \t 5\n",
      "-------- Spectrum 9 (x-position: 4.5 mn) --------\n",
      "Technique \tRBS\n",
      "\n",
      "Mode \t\t 19\n",
      "Window  \t [100, 1500]\n",
      "Projectile  \t 1H\n",
      "Beam energy  \t 2300.0\n",
      "Beam fwhm  \t 30.0\n",
      "Geometry  \t ibm\n",
      "Angles  \t ['0', '150']\n",
      "Dect solid  \t 6.00\n",
      "Energy calib  \t [4.25, 42.14]\n",
      "Charge  \t 5\n"
     ]
    },
    {
     "data": {
      "image/png": "[encoded data removed]",
      "text/plain": [
       "<Figure size 432x288 with 1 Axes>"
      ]
     },
     "metadata": {
      "needs_background": "light"
     },
     "output_type": "display_data"
    }
   ],
   "source": [
    "idf_file.print_idf_file()"
   ]
  }
 ],
 "metadata": {
  "hide_input": false,
  "kernelspec": {
   "display_name": "Python 3",
   "language": "python",
   "name": "python3"
  },
  "language_info": {
   "codemirror_mode": {
    "name": "ipython",
    "version": 3
   },
   "file_extension": ".py",
   "mimetype": "text/x-python",
   "name": "python",
   "nbconvert_exporter": "python",
   "pygments_lexer": "ipython3",
   "version": "3.8.10"
  },
  "toc": {
   "base_numbering": 1,
   "nav_menu": {},
   "number_sections": true,
   "sideBar": true,
   "skip_h1_title": false,
   "title_cell": "Table of Contents",
   "title_sidebar": "Contents",
   "toc_cell": false,
   "toc_position": {
    "height": "calc(100% - 180px)",
    "left": "10px",
    "top": "150px",
    "width": "165px"
   },
   "toc_section_display": true,
   "toc_window_display": true
  }
 },
 "nbformat": 4,
 "nbformat_minor": 5
}
