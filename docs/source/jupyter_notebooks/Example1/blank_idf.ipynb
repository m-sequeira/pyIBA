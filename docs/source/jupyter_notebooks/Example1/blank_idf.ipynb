{
 "cells": [
  {
   "cell_type": "markdown",
   "id": "32868d5b",
   "metadata": {},
   "source": [
    "# 1 - Creating a blank IDF"
   ]
  },
  {
   "cell_type": "markdown",
   "id": "162ac2b5",
   "metadata": {},
   "source": [
    "First import the IDF class from pyIBA"
   ]
  },
  {
   "cell_type": "code",
   "execution_count": 20,
   "id": "93e8ab64",
   "metadata": {},
   "outputs": [],
   "source": [
    "import sys\n",
    "sys.path.insert(0, '/home/msequeira/Dropbox/CTN/Radiate/IDF_python/GUI/test/')\n",
    "\n",
    "from pyIBA import IDF"
   ]
  },
  {
   "cell_type": "markdown",
   "id": "1dff790f",
   "metadata": {},
   "source": [
    "To create a new IDF, we first create a blank IDF object:"
   ]
  },
  {
   "cell_type": "code",
   "execution_count": 21,
   "id": "dd07c753",
   "metadata": {},
   "outputs": [],
   "source": [
    "idf_file = IDF()"
   ]
  },
  {
   "cell_type": "markdown",
   "id": "eae40548",
   "metadata": {},
   "source": [
    "## Adding spectrum data"
   ]
  },
  {
   "cell_type": "markdown",
   "id": "68abbc9e",
   "metadata": {},
   "source": [
    "We now data to this object. Adding a RBS spectrum is possible via two ways:\n",
    "\n",
    "1. load the data manually (e.g. the result of some analysis) and use `set_spectrum_data(data_x, data_y)`\n",
    "2. load the data directly from a file using `set_spectrum_data_from_file(path_to_file)`\n",
    "\n",
    "\n",
    "    Note: To see the documentation of a method in python you can use help(method) as shown below. Moreover, in jupyter notebooks you can use shift + tab while the cursor is inside the method to pull its documentation."
   ]
  },
  {
   "cell_type": "code",
   "execution_count": 22,
   "id": "ea476238",
   "metadata": {},
   "outputs": [
    {
     "name": "stdout",
     "output_type": "stream",
     "text": [
      "Help on method set_spectrum_data_from_file in module pyIBA.main_idf:\n",
      "\n",
      "set_spectrum_data_from_file(file_name, save_file_name=True, mode='channels vs yield', spectra_id=0, simulation=False) method of pyIBA.IDF.IDF instance\n",
      "    Read the spectrum data from the file and sets it on the IDF file.\n",
      "    \n",
      "    Example:\n",
      "            Load experimental data from file and plot it (see also ``self.get_dataxy()`` and \n",
      "            ``self.get_spectrum_file_name()``::\n",
      "                    \n",
      "                    #create a blank IDF file\n",
      "                    idf_file = IDF()\n",
      "    \n",
      "                    #set the spectrum data from the txt file\n",
      "                    idf_file.set_spectrum_data_from_file(path_to_exp_data.txt)\n",
      "    \n",
      "                    #load and plot the data using the file name as label\n",
      "                    xx, yy = self.get_dataxy()\n",
      "                    plt.figure()\n",
      "                    plt.plot(xx, yy, label = idf_file.get_spectrum_file_name())\n",
      "                    plt.legend()\n",
      "    \n",
      "                    \n",
      "    Args:\n",
      "            file_name (str): Path to the file with the data\n",
      "            save_file_name (bool, optional, default = True): If True, saves the original file name\n",
      "            mode (str, optional, default = 'channels vs yield'): Mode of the data file options:\n",
      "    \n",
      "                    mode = 'channels vs yield' if txt file has two columns (xx, yy)\n",
      "    \n",
      "                    mode = '8 columns' if txt file has 8 columns with yields and assumes linear xx-scale\n",
      "    \n",
      "            spectra_id (int, optional): ID of the spectrum to change\n",
      "            simulation (bool, optional): Not used as of now\n",
      "    \n",
      "    Returns:\n",
      "            DOM Element or None: The XML entry of spectrum[spectra_id].\n",
      "\n"
     ]
    }
   ],
   "source": [
    "help(idf_file.set_spectrum_data_from_file)"
   ]
  },
  {
   "cell_type": "markdown",
   "id": "ed5bbdac",
   "metadata": {},
   "source": [
    "### using `set_spectrum_data()`"
   ]
  },
  {
   "cell_type": "markdown",
   "id": "b7f60406",
   "metadata": {},
   "source": [
    "As an example, we will load the spectrum data from a two column file using `numpy.loadtxt()`:"
   ]
  },
  {
   "cell_type": "code",
   "execution_count": 23,
   "id": "48f7d28b",
   "metadata": {},
   "outputs": [],
   "source": [
    "import numpy as np"
   ]
  },
  {
   "cell_type": "code",
   "execution_count": 24,
   "id": "8e859577",
   "metadata": {},
   "outputs": [],
   "source": [
    "path_data = 'RBS2PT50CO50_30.odf'\n",
    "\n",
    "data = np.loadtxt(path_data)\n",
    "\n",
    "data_x = data[:,0]\n",
    "data_y = data[:,1]"
   ]
  },
  {
   "cell_type": "markdown",
   "id": "baebf1ec",
   "metadata": {},
   "source": [
    "In fact, we can also use the auxiliary function `pyIBA.auxiliar.load_spectrum_from_file(path_to_file)` to obtain the raw data from a file:"
   ]
  },
  {
   "cell_type": "code",
   "execution_count": 25,
   "id": "04061095",
   "metadata": {},
   "outputs": [],
   "source": [
    "from pyIBA.auxiliar import load_spectrum_from_file"
   ]
  },
  {
   "cell_type": "code",
   "execution_count": 26,
   "id": "61f18149",
   "metadata": {},
   "outputs": [],
   "source": [
    "data_x, data_y = load_spectrum_from_file(path_data)"
   ]
  },
  {
   "cell_type": "markdown",
   "id": "ff67ea71",
   "metadata": {},
   "source": [
    "Either way, once you have you x, y data you add it to the IDF object using:"
   ]
  },
  {
   "cell_type": "code",
   "execution_count": 27,
   "id": "d2cf7d95",
   "metadata": {},
   "outputs": [],
   "source": [
    "idf_file.set_spectrum_data(data_x, data_y);"
   ]
  },
  {
   "cell_type": "markdown",
   "id": "33cdf7da",
   "metadata": {},
   "source": [
    "### using set_spectrum_data_from_file()"
   ]
  },
  {
   "cell_type": "markdown",
   "id": "630c6d72",
   "metadata": {},
   "source": [
    "`set_spectrum_data_from_file()` is a much more efficient method of adding spectrum files to the IDF object. Repeating the example above:"
   ]
  },
  {
   "cell_type": "code",
   "execution_count": 28,
   "id": "5c9250b0",
   "metadata": {},
   "outputs": [],
   "source": [
    "path_data = 'RBS2PT50CO50_30.odf'\n",
    "\n",
    "idf_file.set_spectrum_data_from_file(path_data);"
   ]
  },
  {
   "cell_type": "markdown",
   "id": "e82cb21f",
   "metadata": {},
   "source": [
    "Note that `set_spectrum_data_from_file` is also saving the file name (save_file_name = True) and assumes mode = 'channels vs yield'. If the input file has 8 columns with yields and assumes linear xx-scale, then use mode = '8 columns'."
   ]
  },
  {
   "cell_type": "markdown",
   "id": "6e053e8f",
   "metadata": {},
   "source": [
    "To validate the process we can load the x,y data from the IDF object and plot it using matplolib:"
   ]
  },
  {
   "cell_type": "code",
   "execution_count": 29,
   "id": "8c533989",
   "metadata": {},
   "outputs": [],
   "source": [
    "import matplotlib.pyplot as plt"
   ]
  },
  {
   "cell_type": "code",
   "execution_count": 30,
   "id": "0751c4d3",
   "metadata": {},
   "outputs": [
    {
     "data": {
      "text/plain": [
       "Text(0, 0.5, 'Counts')"
      ]
     },
     "execution_count": 30,
     "metadata": {},
     "output_type": "execute_result"
    },
    {
     "data": {
      "image/png": "[encoded data removed]",
      "text/plain": [
       "<Figure size 432x288 with 1 Axes>"
      ]
     },
     "metadata": {
      "needs_background": "light"
     },
     "output_type": "display_data"
    }
   ],
   "source": [
    "#load the x and y from the object:\n",
    "xx, yy = idf_file.get_dataxy()\n",
    "\n",
    "#create figure and plot it\n",
    "plt.figure()\n",
    "plt.plot(xx, yy)\n",
    "plt.xlabel('Channels')\n",
    "plt.ylabel('Counts')"
   ]
  },
  {
   "cell_type": "markdown",
   "id": "eb6d3ae7",
   "metadata": {},
   "source": [
    "## Adding beam parameters"
   ]
  },
  {
   "cell_type": "markdown",
   "id": "be817404",
   "metadata": {},
   "source": [
    "We now add the beam parameters:"
   ]
  },
  {
   "cell_type": "code",
   "execution_count": 31,
   "id": "ea8a75fd",
   "metadata": {},
   "outputs": [],
   "source": [
    "idf_file.set_beam_energy(2000)\n",
    "idf_file.set_beam_energy_spread(20)\n",
    "idf_file.set_beam_particles('4He')\n",
    "idf_file.set_charge(5)\n",
    "idf_file.set_geometry_type('IBM')\n",
    "idf_file.set_incident_angle(30)\n",
    "idf_file.set_scattering_angle(140)\n",
    "idf_file.set_detector_solid_angle(11)\n",
    "idf_file.set_energy_calibration(2.28, 105.5)"
   ]
  },
  {
   "cell_type": "markdown",
   "id": "486d1839",
   "metadata": {},
   "source": [
    "or, instead we can use `set_geo_parameters()` to add the all the parameters at once. For this, we first define a dictionary with the parameters:"
   ]
  },
  {
   "cell_type": "code",
   "execution_count": 32,
   "id": "339113a2",
   "metadata": {},
   "outputs": [],
   "source": [
    "geo_params = {'beam_energy': 2000.0,\n",
    "          'beam_FWHM': 20.0,\n",
    "          'projectile': '4He', \n",
    "          'charge': 5,\n",
    "          'geometry': 'IBM',\n",
    "          'angles': ['30', '140'],\n",
    "          'dect_solid': '11',\n",
    "          'energy_calib': [2.28, 105.5]\n",
    "         }\n",
    "\n",
    "idf_file.set_geo_parameters(geo_params)"
   ]
  },
  {
   "cell_type": "markdown",
   "id": "2f95bf67",
   "metadata": {},
   "source": [
    "## Adding the sample details"
   ]
  },
  {
   "cell_type": "markdown",
   "id": "3202ee02",
   "metadata": {},
   "source": [
    "### Elements"
   ]
  },
  {
   "cell_type": "markdown",
   "id": "fbcbd6fd",
   "metadata": {},
   "source": [
    "We begin by defining the elements dictionary forming the sample and use `set_elements()` to add it to the IDF object (see also `help(idf_file.set_elements)`). In this example we have a sample with CoPt, SiO2 and Si."
   ]
  },
  {
   "cell_type": "code",
   "execution_count": 33,
   "id": "87dfd2f9",
   "metadata": {},
   "outputs": [],
   "source": [
    "#define the elements dictionary \n",
    "elements = {\n",
    "    #number of elements\n",
    "    'nelements':3,\n",
    "    #element 1\n",
    "    0: {'name': 'Co 1 Pt 1',\n",
    "        'density': '',\n",
    "        'concentration': ['0','1'],\n",
    "        'depth': ['0','1000']},\n",
    "    #element 2\n",
    "    1: {'name': 'Si 1 O 2',\n",
    "        'density': '',\n",
    "        'concentration': ['0','1'],\n",
    "        'depth': ['0','1000']},\n",
    "    #element 3\n",
    "    2: {'name': 'Si',\n",
    "        'density': '',\n",
    "        'concentration': ['0', '1'],\n",
    "        'depth': ['300','1e6']},    \n",
    "}\n",
    "\n",
    "idf_file.set_elements(elements)"
   ]
  },
  {
   "cell_type": "markdown",
   "id": "d1eec3e4",
   "metadata": {},
   "source": [
    "### Depth profile"
   ]
  },
  {
   "cell_type": "markdown",
   "id": "f2bbedc6",
   "metadata": {},
   "source": [
    "Similar to the process above, to include the depth profile of the sample, we define first the profile dictionary and then load it into the IDF object using `idf_file.set_profile()`. Here, our sample has 3 layers - CoPt/SiO$_2$/Si. Therefore, the profile dictionary is:"
   ]
  },
  {
   "cell_type": "code",
   "execution_count": 34,
   "id": "d4353d61",
   "metadata": {},
   "outputs": [],
   "source": [
    "#dictionary defining the depth profile of the sample\n",
    "profile_dic = {\n",
    "    'nlayers': '3',\n",
    "    'names': ['Co 1 Pt 1', 'Si 1 O 2', 'Si'],\n",
    "    0: {'thickness': 390,     'concentrations': [100, 0,  0]}, \n",
    "    1: {'thickness': 550,     'concentrations': [ 0, 100, 0]}, \n",
    "    2: {'thickness': 4000000, 'concentrations': [ 0,  0, 100]}                              \n",
    "}\n",
    "\n",
    "#add the profile to the IDF object\n",
    "idf_file.set_profile(profile_dic)"
   ]
  },
  {
   "cell_type": "markdown",
   "id": "34b24174",
   "metadata": {},
   "source": [
    "### Add a note"
   ]
  },
  {
   "cell_type": "markdown",
   "id": "2c878a4e",
   "metadata": {},
   "source": [
    "It is also possible to add notes and turn IDF into a logbook."
   ]
  },
  {
   "cell_type": "code",
   "execution_count": 35,
   "id": "bc17998b",
   "metadata": {},
   "outputs": [
    {
     "name": "stdout",
     "output_type": "stream",
     "text": [
      "['This file was created during Example 1, it relates to a RBS measurement of a CoPt/SiO2 sample.', 'Something I did after the first note']\n"
     ]
    }
   ],
   "source": [
    "#define note\n",
    "note = 'This file was created during Example 1, it relates to a RBS measurement of a CoPt/SiO2 sample.'\n",
    "\n",
    "#add note to idf_file\n",
    "idf_file.set_note(note)\n",
    "\n",
    "#if you want to add more notes afterwards, it is possible to append them to the previous ones\n",
    "note = 'Something I did after the first note'\n",
    "idf_file.set_note(note, append=True)\n",
    "\n",
    "#check the notes\n",
    "print(idf_file.get_notes())\n",
    "\n",
    "\n",
    "#it is also possible to define the author of the file\n",
    "author = 'Miguel Sequeira'\n",
    "idf_file.set_user(author)\n"
   ]
  },
  {
   "cell_type": "markdown",
   "id": "966a91e4",
   "metadata": {},
   "source": [
    "## Saving the IDF object"
   ]
  },
  {
   "cell_type": "markdown",
   "id": "79c06550",
   "metadata": {},
   "source": [
    "Until this point, nothing has been saved into the disk. To save the `idf_file` object into the file, using the IDF file format, we use `idf_file.save_idf()`."
   ]
  },
  {
   "cell_type": "code",
   "execution_count": 36,
   "id": "974f11a3",
   "metadata": {},
   "outputs": [],
   "source": [
    "#define the path to the new file\n",
    "path_to_save = 'idf_example1.xml'\n",
    "\n",
    "#create the idf file\n",
    "idf_file.save_idf(path_to_save);"
   ]
  },
  {
   "cell_type": "markdown",
   "id": "05a38ed5",
   "metadata": {},
   "source": [
    "## Checking the file"
   ]
  },
  {
   "cell_type": "markdown",
   "id": "a08ecdf6",
   "metadata": {},
   "source": [
    "If you want to check the contents of the IDF object (or file), you use `idf_file.printout_idf_file()`. However, it is much more efficient to use the GUI IDFViewer (see [Example A2](../advanced_examples/Example_a2/IDFViewer_pyIBA.ipynb))."
   ]
  },
  {
   "cell_type": "code",
   "execution_count": 37,
   "id": "ad51213c",
   "metadata": {},
   "outputs": [
    {
     "name": "stdout",
     "output_type": "stream",
     "text": [
      "=============== idf_example1 ===============\n",
      "idf_example1.xml\n",
      "Miguel Sequeira \n",
      "\n",
      "------------------  Notes  ------------------\n",
      "This file was created during Example 1, it relates to a RBS measurement of a CoPt/SiO2 sample.\n",
      "Something I did after the first note\n",
      "\n",
      "------------------ Elements -----------------\n",
      "nelements \t 3\n",
      "\n",
      " - - - Element 0 - - -\n",
      "name \t\t Co 1 Pt 1\n",
      "density  \t \n",
      "concentration  \t ['0', '1']\n",
      "depth \t\t ['0', '1000']\n",
      "\n",
      " - - - Element 1 - - -\n",
      "name \t\t Si 1 O 2\n",
      "density  \t \n",
      "concentration  \t ['0', '1']\n",
      "depth \t\t ['0', '1000']\n",
      "\n",
      " - - - Element 2 - - -\n",
      "name \t\t Si\n",
      "density  \t \n",
      "concentration  \t ['0', '1']\n",
      "depth \t\t ['300', '1e6']\n",
      "\n",
      "------------------ Profile -----------------\n",
      "nlayers \t\t 2\n",
      "names \t\t ['Co 1 Pt 1', 'Si 1 O 2', 'Si']\n",
      "\n",
      " - - - Layer 0 - - -\n",
      "thickness \t\t 390\n",
      "concentrations  \t ['100', '0', '0']\n",
      "\n",
      " - - - Layer 1 - - -\n",
      "thickness \t\t 550\n",
      "concentrations  \t ['0', '100', '0']\n",
      "\n",
      " - - - Layer 2 - - -\n",
      "thickness \t\t 4000000\n",
      "concentrations  \t ['0', '0', '100']\n",
      "\n",
      "\n",
      "\n",
      "-------- Spectrum 0 (RBS2PT50CO50_30.odf) --------\n",
      "Technique \tRBS\n",
      "\n",
      "Mode \t\t 19\n",
      "Window  \t [100, 1500]\n",
      "Projectile  \t 4He\n",
      "Beam energy  \t 2000.0\n",
      "Beam fwhm  \t 20.0\n",
      "Geometry  \t IBM\n",
      "Angles  \t ['30', '140']\n",
      "Dect solid  \t 11\n",
      "Energy calib  \t [2.28, 105.5]\n",
      "Charge  \t 5\n"
     ]
    },
    {
     "data": {
      "image/png": "[encoded data removed]",
      "text/plain": [
       "<Figure size 432x288 with 1 Axes>"
      ]
     },
     "metadata": {
      "needs_background": "light"
     },
     "output_type": "display_data"
    }
   ],
   "source": [
    "idf_file.print_idf_file()"
   ]
  },
  {
   "cell_type": "markdown",
   "id": "24a4bfd8",
   "metadata": {},
   "source": [
    "If you want to directly check the XML file, you can set `mode = 'XML'`:"
   ]
  },
  {
   "cell_type": "code",
   "execution_count": 38,
   "id": "d04378d2",
   "metadata": {
    "scrolled": false
   },
   "outputs": [
    {
     "name": "stdout",
     "output_type": "stream",
     "text": [
      "<?xml version=\"1.0\" ?>\n",
      "<idf xmlns:xsi=\"http://www.w3.org/2001/XMLSchema-instance\" xmlns=\"http://idf.schemas.itn.pt\" xmlns:idf=\"http:/idf.schemas.itn.pt\" xmlns:ndf=\"http:/ndf.schemas.itn.pt\" xsi:schemaLocation=\"http:/idf.schemas.itn.pt idfv1.xsd http://ndf.schemas.itn.pt ndfv1.xsd\">\n",
      "  <users>\n",
      "    <user>Miguel Sequeira</user>\n",
      "  </users>\n",
      "  <notes>\n",
      "    <note>This file was created during Example 1, it relates to a RBS measurement of a CoPt/SiO2 sample.</note>\n",
      "    <note>Something I did after the first note</note>\n",
      "  </notes>\n",
      "  <attributes>\n",
      "    <idfversion/>\n",
      "    <filename/>\n",
      "    <createtime/>\n",
      "  </attributes>\n",
      "  <sample>\n",
      "    <users>\n",
      "      <user/>\n",
      "    </users>\n",
      "    <notes>\n",
      "      <note/>\n",
      "    </notes>\n",
      "    <description/>\n",
      "    <structure>\n",
      "      <layeredstructure>\n",
      "        <nlayers>3</nlayers>\n",
      "        <layers>\n",
      "          <layer>\n",
      "            <layerthickness units=\"1e15at/cm2\">390</layerthickness>\n",
      "            <layerelements>\n",
      "              <layerelement>\n",
      "                <name>Co 1 Pt 1</name>\n",
      "                <concentration units=\"fraction\">100</concentration>\n",
      "              </layerelement>\n",
      "              <layerelement>\n",
      "                <name>Si 1 O 2</name>\n",
      "                <concentration units=\"fraction\">0</concentration>\n",
      "              </layerelement>\n",
      "              <layerelement>\n",
      "                <name>Si</name>\n",
      "                <concentration units=\"fraction\">0</concentration>\n",
      "              </layerelement>\n",
      "            </layerelements>\n",
      "          </layer>\n",
      "          <layer>\n",
      "            <layerthickness units=\"1e15at/cm2\">550</layerthickness>\n",
      "            <layerelements>\n",
      "              <layerelement>\n",
      "                <name>Co 1 Pt 1</name>\n",
      "                <concentration units=\"fraction\">0</concentration>\n",
      "              </layerelement>\n",
      "              <layerelement>\n",
      "                <name>Si 1 O 2</name>\n",
      "                <concentration units=\"fraction\">100</concentration>\n",
      "              </layerelement>\n",
      "              <layerelement>\n",
      "                <name>Si</name>\n",
      "                <concentration units=\"fraction\">0</concentration>\n",
      "              </layerelement>\n",
      "            </layerelements>\n",
      "          </layer>\n",
      "          <layer>\n",
      "            <layerthickness units=\"1e15at/cm2\">4000000</layerthickness>\n",
      "            <layerelements>\n",
      "              <layerelement>\n",
      "                <name>Co 1 Pt 1</name>\n",
      "                <concentration units=\"fraction\">0</concentration>\n",
      "              </layerelement>\n",
      "              <layerelement>\n",
      "                <name>Si 1 O 2</name>\n",
      "                <concentration units=\"fraction\">0</concentration>\n",
      "              </layerelement>\n",
      "              <layerelement>\n",
      "                <name>Si</name>\n",
      "                <concentration units=\"fraction\">100</concentration>\n",
      "              </layerelement>\n",
      "            </layerelements>\n",
      "          </layer>\n",
      "        </layers>\n",
      "      </layeredstructure>\n",
      "    </structure>\n",
      "    <spectra>\n",
      "      <spectrum>\n",
      "        <notes>\n",
      "          <note/>\n",
      "          <note>                </note>\n",
      "          <note>                </note>\n",
      "          <note/>\n",
      "        </notes>\n",
      "        <beam>\n",
      "          <beamparticle>4He</beamparticle>\n",
      "          <beamZ/>\n",
      "          <beammass units=\"amu\"/>\n",
      "          <beamenergy units=\"keV\">2000.0</beamenergy>\n",
      "          <beamfluence units=\"uC\"/>\n",
      "          <beamenergyspread mode=\"FWHM\" units=\"keV\">20.0</beamenergyspread>\n",
      "          <charge>5</charge>\n",
      "        </beam>\n",
      "        <geometry>\n",
      "          <geometrytype>IBM</geometrytype>\n",
      "          <incidenceangle units=\"degree\">30</incidenceangle>\n",
      "          <scatteringangle units=\"degree\">140</scatteringangle>\n",
      "          <exitangle units=\"degree\"/>\n",
      "        </geometry>\n",
      "        <detection>\n",
      "          <detector>\n",
      "            <detectortype/>\n",
      "            <solidangle units=\"msr\">11</solidangle>\n",
      "          </detector>\n",
      "        </detection>\n",
      "        <calibrations>\n",
      "          <energycalibrations>\n",
      "            <energycalibration>\n",
      "              <calibrationmode>energy</calibrationmode>\n",
      "              <calibrationparameters>\n",
      "                <calibrationparameter units=\"keV\">105.5</calibrationparameter>\n",
      "                <calibrationparameter units=\"keV/channel\">2.28</calibrationparameter>\n",
      "              </calibrationparameters>\n",
      "            </energycalibration>\n",
      "          </energycalibrations>\n",
      "        </calibrations>\n",
      "        <reactions>\n",
      "          <technique/>\n",
      "        </reactions>\n",
      "        <data>\n",
      "          <simpledata>\n",
      "            <xaxis>\n",
      "              <axisname>energy</axisname>\n",
      "              <axisunit>channel</axisunit>\n",
      "            </xaxis>\n",
      "            <yaxis>\n",
      "              <axisname>yield</axisname>\n",
      "              <axisunit>counts</axisunit>\n",
      "            </yaxis>\n",
      "            <x>0.0 1.0 2.0 3.0 4.0 5.0 6.0 7.0 8.0 9.0 10.0 11.0 12.0 13.0 14.0 15.0 16.0 17.0 18.0 19.0 20.0 21.0 22.0 23.0 24.0 25.0 26.0 27.0 28.0 29.0 30.0 31.0 32.0 33.0 34.0 35.0 36.0 37.0 38.0 39.0 40.0 41.0 42.0 43.0 44.0 45.0 46.0 47.0 48.0 49.0 50.0 51.0 52.0 53.0 54.0 55.0 56.0 57.0 58.0 59.0 60.0 61.0 62.0 63.0 64.0 65.0 66.0 67.0 68.0 69.0 70.0 71.0 72.0 73.0 74.0 75.0 76.0 77.0 78.0 79.0 80.0 81.0 82.0 83.0 84.0 85.0 86.0 87.0 88.0 89.0 90.0 91.0 92.0 93.0 94.0 95.0 96.0 97.0 98.0 99.0 100.0 101.0 102.0 103.0 104.0 105.0 106.0 107.0 108.0 109.0 110.0 111.0 112.0 113.0 114.0 115.0 116.0 117.0 118.0 119.0 120.0 121.0 122.0 123.0 124.0 125.0 126.0 127.0 128.0 129.0 130.0 131.0 132.0 133.0 134.0 135.0 136.0 137.0 138.0 139.0 140.0 141.0 142.0 143.0 144.0 145.0 146.0 147.0 148.0 149.0 150.0 151.0 152.0 153.0 154.0 155.0 156.0 157.0 158.0 159.0 160.0 161.0 162.0 163.0 164.0 165.0 166.0 167.0 168.0 169.0 170.0 171.0 172.0 173.0 174.0 175.0 176.0 177.0 178.0 179.0 180.0 181.0 182.0 183.0 184.0 185.0 186.0 187.0 188.0 189.0 190.0 191.0 192.0 193.0 194.0 195.0 196.0 197.0 198.0 199.0 200.0 201.0 202.0 203.0 204.0 205.0 206.0 207.0 208.0 209.0 210.0 211.0 212.0 213.0 214.0 215.0 216.0 217.0 218.0 219.0 220.0 221.0 222.0 223.0 224.0 225.0 226.0 227.0 228.0 229.0 230.0 231.0 232.0 233.0 234.0 235.0 236.0 237.0 238.0 239.0 240.0 241.0 242.0 243.0 244.0 245.0 246.0 247.0 248.0 249.0 250.0 251.0 252.0 253.0 254.0 255.0 256.0 257.0 258.0 259.0 260.0 261.0 262.0 263.0 264.0 265.0 266.0 267.0 268.0 269.0 270.0 271.0 272.0 273.0 274.0 275.0 276.0 277.0 278.0 279.0 280.0 281.0 282.0 283.0 284.0 285.0 286.0 287.0 288.0 289.0 290.0 291.0 292.0 293.0 294.0 295.0 296.0 297.0 298.0 299.0 300.0 301.0 302.0 303.0 304.0 305.0 306.0 307.0 308.0 309.0 310.0 311.0 312.0 313.0 314.0 315.0 316.0 317.0 318.0 319.0 320.0 321.0 322.0 323.0 324.0 325.0 326.0 327.0 328.0 329.0 330.0 331.0 332.0 333.0 334.0 335.0 336.0 337.0 338.0 339.0 340.0 341.0 342.0 343.0 344.0 345.0 346.0 347.0 348.0 349.0 350.0 351.0 352.0 353.0 354.0 355.0 356.0 357.0 358.0 359.0 360.0 361.0 362.0 363.0 364.0 365.0 366.0 367.0 368.0 369.0 370.0 371.0 372.0 373.0 374.0 375.0 376.0 377.0 378.0 379.0 380.0 381.0 382.0 383.0 384.0 385.0 386.0 387.0 388.0 389.0 390.0 391.0 392.0 393.0 394.0 395.0 396.0 397.0 398.0 399.0 400.0 401.0 402.0 403.0 404.0 405.0 406.0 407.0 408.0 409.0 410.0 411.0 412.0 413.0 414.0 415.0 416.0 417.0 418.0 419.0 420.0 421.0 422.0 423.0 424.0 425.0 426.0 427.0 428.0 429.0 430.0 431.0 432.0 433.0 434.0 435.0 436.0 437.0 438.0 439.0 440.0 441.0 442.0 443.0 444.0 445.0 446.0 447.0 448.0 449.0 450.0 451.0 452.0 453.0 454.0 455.0 456.0 457.0 458.0 459.0 460.0 461.0 462.0 463.0 464.0 465.0 466.0 467.0 468.0 469.0 470.0 471.0 472.0 473.0 474.0 475.0 476.0 477.0 478.0 479.0 480.0 481.0 482.0 483.0 484.0 485.0 486.0 487.0 488.0 489.0 490.0 491.0 492.0 493.0 494.0 495.0 496.0 497.0 498.0 499.0 500.0 501.0 502.0 503.0 504.0 505.0 506.0 507.0 508.0 509.0 510.0 511.0 512.0 513.0 514.0 515.0 516.0 517.0 518.0 519.0 520.0 521.0 522.0 523.0 524.0 525.0 526.0 527.0 528.0 529.0 530.0 531.0 532.0 533.0 534.0 535.0 536.0 537.0 538.0 539.0 540.0 541.0 542.0 543.0 544.0 545.0 546.0 547.0 548.0 549.0 550.0 551.0 552.0 553.0 554.0 555.0 556.0 557.0 558.0 559.0 560.0 561.0 562.0 563.0 564.0 565.0 566.0 567.0 568.0 569.0 570.0 571.0 572.0 573.0 574.0 575.0 576.0 577.0 578.0 579.0 580.0 581.0 582.0 583.0 584.0 585.0 586.0 587.0 588.0 589.0 590.0 591.0 592.0 593.0 594.0 595.0 596.0 597.0 598.0 599.0 600.0 601.0 602.0 603.0 604.0 605.0 606.0 607.0 608.0 609.0 610.0 611.0 612.0 613.0 614.0 615.0 616.0 617.0 618.0 619.0 620.0 621.0 622.0 623.0 624.0 625.0 626.0 627.0 628.0 629.0 630.0 631.0 632.0 633.0 634.0 635.0 636.0 637.0 638.0 639.0 640.0 641.0 642.0 643.0 644.0 645.0 646.0 647.0 648.0 649.0 650.0 651.0 652.0 653.0 654.0 655.0 656.0 657.0 658.0 659.0 660.0 661.0 662.0 663.0 664.0 665.0 666.0 667.0 668.0 669.0 670.0 671.0 672.0 673.0 674.0 675.0 676.0 677.0 678.0 679.0 680.0 681.0 682.0 683.0 684.0 685.0 686.0 687.0 688.0 689.0 690.0 691.0 692.0 693.0 694.0 695.0 696.0 697.0 698.0 699.0 700.0 701.0 702.0 703.0 704.0 705.0 706.0 707.0 708.0 709.0 710.0 711.0 712.0 713.0 714.0 715.0 716.0 717.0 718.0 719.0 720.0 721.0 722.0 723.0 724.0 725.0 726.0 727.0 728.0 729.0 730.0 731.0 732.0 733.0 734.0 735.0 736.0 737.0 738.0 739.0 740.0 741.0 742.0 743.0 744.0 745.0 746.0 747.0 748.0 749.0 750.0 751.0 752.0 753.0 754.0 755.0 756.0 757.0 758.0 759.0 760.0 761.0 762.0 763.0 764.0 765.0 766.0 767.0 768.0 769.0 770.0 771.0 772.0 773.0 774.0 775.0 776.0 777.0 778.0 779.0 780.0 781.0 782.0 783.0 784.0 785.0 786.0 787.0 788.0 789.0 790.0 791.0 792.0 793.0 794.0 795.0 796.0 797.0 798.0 799.0 800.0 801.0 802.0 803.0 804.0 805.0 806.0 807.0 808.0 809.0 810.0 811.0 812.0 813.0 814.0 815.0 816.0 817.0 818.0 819.0 820.0 821.0 822.0 823.0 824.0 825.0 826.0 827.0 828.0 829.0 830.0 831.0 832.0 833.0 834.0 835.0 836.0 837.0 838.0 839.0 840.0 841.0 842.0 843.0 844.0 845.0 846.0 847.0 848.0 849.0 850.0 851.0 852.0 853.0 854.0 855.0 856.0 857.0 858.0 859.0 860.0 861.0 862.0 863.0 864.0 865.0 866.0 867.0 868.0 869.0 870.0 871.0 872.0 873.0 874.0 875.0 876.0 877.0 878.0 879.0 880.0 881.0 882.0 883.0 884.0 885.0 886.0 887.0 888.0 889.0 890.0 891.0 892.0 893.0 894.0 895.0 896.0 897.0 898.0 899.0 900.0 901.0 902.0 903.0 904.0 905.0 906.0 907.0 908.0 909.0 910.0 911.0 912.0 913.0 914.0 915.0 916.0 917.0 918.0 919.0 920.0 921.0 922.0 923.0 924.0 925.0 926.0 927.0 928.0 929.0 930.0 931.0 932.0 933.0 934.0 935.0 936.0 937.0 938.0 939.0 940.0 941.0 942.0 943.0 944.0 945.0 946.0 947.0 948.0 949.0 950.0 951.0 952.0 953.0 954.0 955.0 956.0 957.0 958.0 959.0 960.0 961.0 962.0 963.0 964.0 965.0 966.0 967.0 968.0 969.0 970.0 971.0 972.0 973.0 974.0 975.0 976.0 977.0 978.0 979.0 980.0 981.0 982.0 983.0 984.0 985.0 986.0 987.0 988.0 989.0 990.0 991.0 992.0 993.0 994.0 995.0 996.0 997.0 998.0 999.0 1000.0 1001.0 1002.0 1003.0 1004.0 1005.0 1006.0 1007.0 1008.0 1009.0 1010.0 1011.0 1012.0 1013.0 1014.0 1015.0 1016.0 1017.0 1018.0 1019.0 1020.0 1021.0 1022.0 1023.0</x>\n",
      "            <y>891.0 917.0 0.0 0.0 0.0 0.0 0.0 0.0 0.0 0.0 0.0 0.0 0.0 1.0 0.0 2.0 230.0 3597.0 13150.0 25405.0 26793.0 26764.0 26617.0 25203.0 24821.0 24124.0 23189.0 22642.0 21849.0 21347.0 20604.0 19600.0 18742.0 17965.0 17018.0 16100.0 15525.0 14780.0 13873.0 13067.0 12643.0 12165.0 11663.0 11373.0 10871.0 10376.0 10176.0 10024.0 9705.0 9428.0 9152.0 8931.0 8675.0 8405.0 8436.0 8398.0 7891.0 7952.0 7613.0 7393.0 7247.0 6915.0 6814.0 6542.0 6347.0 6098.0 5812.0 5785.0 5543.0 5170.0 5084.0 5027.0 4666.0 4390.0 4424.0 4145.0 4008.0 3880.0 3679.0 3589.0 3407.0 3390.0 3238.0 3188.0 3139.0 3084.0 3029.0 2979.0 2788.0 2753.0 2613.0 2638.0 2600.0 2497.0 2427.0 2528.0 2379.0 2460.0 2476.0 2360.0 2254.0 2275.0 2199.0 2328.0 2315.0 2152.0 2215.0 2190.0 2236.0 2130.0 2128.0 2134.0 2153.0 2031.0 2029.0 2062.0 2077.0 2014.0 1969.0 2022.0 2027.0 1934.0 2013.0 1960.0 1966.0 1946.0 2033.0 1918.0 1866.0 1940.0 1851.0 1956.0 1839.0 1913.0 1869.0 1816.0 1850.0 1868.0 1877.0 1843.0 1835.0 1843.0 1811.0 1831.0 1761.0 1787.0 1728.0 1813.0 1751.0 1743.0 1847.0 1812.0 1775.0 1794.0 1730.0 1749.0 1779.0 1764.0 1717.0 1752.0 1714.0 1674.0 1690.0 1697.0 1714.0 1703.0 1685.0 1718.0 1731.0 1790.0 1663.0 1714.0 1686.0 1714.0 1667.0 1649.0 1698.0 1705.0 1703.0 1733.0 1700.0 1751.0 1679.0 1790.0 1774.0 1711.0 1761.0 1764.0 1697.0 1737.0 1691.0 1730.0 1762.0 1709.0 1798.0 1742.0 1786.0 1852.0 1864.0 1841.0 1909.0 1873.0 1873.0 1924.0 1824.0 1856.0 1908.0 1869.0 1830.0 1863.0 1828.0 1824.0 1887.0 1860.0 1945.0 1936.0 1827.0 1843.0 1836.0 1870.0 1901.0 1887.0 1913.0 1909.0 1814.0 1814.0 1804.0 1873.0 1810.0 1842.0 1855.0 1793.0 1802.0 1819.0 1865.0 1700.0 1805.0 1677.0 1739.0 1655.0 1702.0 1727.0 1666.0 1610.0 1688.0 1552.0 1598.0 1553.0 1610.0 1526.0 1551.0 1491.0 1468.0 1545.0 1443.0 1435.0 1499.0 1431.0 1450.0 1533.0 1471.0 1485.0 1496.0 1450.0 1457.0 1423.0 1350.0 1398.0 1383.0 1448.0 1415.0 1425.0 1418.0 1419.0 1442.0 1451.0 1516.0 1455.0 1455.0 1427.0 1367.0 1399.0 1439.0 1453.0 1456.0 1415.0 1416.0 1400.0 1388.0 1390.0 1379.0 1374.0 1447.0 1460.0 1416.0 1388.0 1458.0 1406.0 1387.0 1397.0 1442.0 1399.0 1391.0 1407.0 1463.0 1414.0 1398.0 1382.0 1402.0 1440.0 1418.0 1444.0 1421.0 1405.0 1353.0 1471.0 1375.0 1381.0 1320.0 1344.0 1448.0 1379.0 1354.0 1396.0 1374.0 1405.0 1348.0 1387.0 1362.0 1345.0 1337.0 1401.0 1366.0 1274.0 1318.0 1297.0 1323.0 1288.0 1316.0 1257.0 1284.0 1314.0 1286.0 1299.0 1233.0 1281.0 1210.0 1225.0 1181.0 1131.0 1195.0 1236.0 1079.0 1072.0 1074.0 1081.0 1044.0 1058.0 980.0 1028.0 1018.0 955.0 895.0 891.0 873.0 823.0 794.0 767.0 767.0 741.0 730.0 700.0 719.0 712.0 651.0 645.0 664.0 609.0 635.0 643.0 651.0 677.0 691.0 629.0 612.0 643.0 621.0 627.0 616.0 598.0 584.0 638.0 600.0 616.0 615.0 592.0 622.0 587.0 580.0 538.0 598.0 568.0 554.0 519.0 483.0 476.0 478.0 495.0 413.0 405.0 364.0 353.0 304.0 321.0 266.0 222.0 262.0 206.0 185.0 175.0 137.0 126.0 138.0 111.0 130.0 145.0 113.0 117.0 112.0 98.0 90.0 94.0 101.0 102.0 99.0 85.0 66.0 100.0 94.0 79.0 101.0 85.0 108.0 83.0 83.0 86.0 83.0 96.0 91.0 92.0 91.0 96.0 86.0 95.0 76.0 68.0 84.0 81.0 81.0 107.0 83.0 72.0 85.0 89.0 101.0 79.0 97.0 105.0 79.0 78.0 104.0 67.0 91.0 71.0 87.0 93.0 77.0 79.0 81.0 82.0 72.0 80.0 89.0 94.0 89.0 84.0 91.0 81.0 93.0 85.0 77.0 94.0 96.0 81.0 77.0 74.0 71.0 70.0 85.0 87.0 92.0 106.0 71.0 64.0 86.0 84.0 94.0 88.0 79.0 82.0 82.0 104.0 75.0 84.0 87.0 90.0 92.0 82.0 89.0 74.0 85.0 76.0 99.0 87.0 92.0 76.0 81.0 80.0 77.0 82.0 75.0 74.0 92.0 98.0 95.0 74.0 77.0 93.0 87.0 80.0 92.0 92.0 87.0 114.0 87.0 89.0 101.0 115.0 88.0 89.0 92.0 102.0 91.0 86.0 92.0 103.0 136.0 96.0 130.0 156.0 141.0 153.0 189.0 188.0 191.0 225.0 240.0 271.0 295.0 413.0 402.0 433.0 478.0 534.0 572.0 623.0 641.0 679.0 734.0 788.0 775.0 792.0 851.0 844.0 893.0 930.0 871.0 976.0 950.0 952.0 1011.0 973.0 1036.0 959.0 970.0 1025.0 951.0 959.0 999.0 1027.0 1004.0 1064.0 1033.0 1023.0 994.0 1015.0 1025.0 1050.0 1032.0 967.0 951.0 933.0 941.0 984.0 1049.0 992.0 947.0 946.0 1032.0 982.0 998.0 994.0 962.0 934.0 1036.0 964.0 980.0 1024.0 908.0 978.0 1017.0 958.0 956.0 1000.0 968.0 892.0 862.0 839.0 814.0 740.0 753.0 629.0 574.0 545.0 507.0 433.0 391.0 329.0 304.0 277.0 177.0 178.0 172.0 165.0 156.0 142.0 159.0 114.0 146.0 122.0 140.0 149.0 155.0 164.0 157.0 171.0 157.0 187.0 158.0 179.0 178.0 211.0 224.0 251.0 231.0 227.0 270.0 329.0 349.0 401.0 451.0 529.0 616.0 757.0 829.0 993.0 1127.0 1388.0 1782.0 2062.0 2412.0 2777.0 3160.0 3692.0 4165.0 4796.0 5501.0 6120.0 6626.0 7415.0 8073.0 8748.0 9539.0 10058.0 10541.0 11118.0 11551.0 11897.0 12326.0 12408.0 12898.0 12819.0 12960.0 12882.0 13115.0 13108.0 13320.0 13296.0 13415.0 13459.0 13219.0 13207.0 13391.0 13416.0 13248.0 13509.0 13354.0 13359.0 13139.0 13350.0 13192.0 13193.0 13303.0 13440.0 13087.0 13356.0 13522.0 13606.0 13383.0 13388.0 13409.0 13262.0 13598.0 13366.0 13327.0 13297.0 13324.0 13296.0 13381.0 13052.0 13255.0 13217.0 13194.0 13062.0 13087.0 13027.0 12861.0 13012.0 12936.0 12770.0 12529.0 12534.0 12000.0 11833.0 11143.0 10561.0 9961.0 9237.0 8439.0 7570.0 6576.0 5774.0 4829.0 3967.0 3232.0 2562.0 2004.0 1570.0 1143.0 822.0 653.0 465.0 327.0 268.0 226.0 163.0 131.0 143.0 101.0 88.0 77.0 58.0 59.0 52.0 50.0 50.0 49.0 43.0 41.0 39.0 39.0 38.0 27.0 35.0 35.0 37.0 28.0 32.0 32.0 18.0 28.0 26.0 26.0 24.0 12.0 28.0 23.0 21.0 22.0 18.0 19.0 14.0 22.0 18.0 20.0 14.0 20.0 18.0 17.0 12.0 21.0 17.0 13.0 15.0 24.0 19.0 13.0 14.0 15.0 19.0 13.0 20.0 13.0 17.0 9.0 12.0 16.0 13.0 14.0 13.0 9.0 13.0 13.0 13.0 10.0 11.0 11.0 16.0 19.0 12.0 18.0 10.0 17.0 10.0 11.0 11.0 8.0 16.0 13.0 11.0 18.0 15.0 6.0 10.0 9.0 10.0 11.0 9.0 10.0 8.0 14.0 8.0 9.0 9.0 6.0 5.0 9.0 12.0 9.0 11.0 8.0 13.0 10.0 6.0 7.0 9.0 6.0 13.0 10.0 12.0 12.0 13.0 8.0 13.0 8.0 9.0 7.0 12.0 10.0 9.0 9.0 8.0 7.0 15.0 9.0 8.0 12.0 10.0 9.0 12.0 8.0 10.0 9.0 7.0 9.0 9.0 15.0 11.0 8.0 9.0 12.0 9.0 8.0 15.0 8.0 11.0 10.0 14.0 6.0 13.0 12.0 12.0 10.0 11.0 6.0 22.0 16.0 6.0 7.0 11.0 9.0 13.0 12.0 6.0 8.0 10.0 11.0 10.0 8.0 12.0 11.0 10.0 10.0 4.0 8.0 7.0 6.0 11.0 10.0 6.0 11.0 10.0 2.0 8.0 12.0 10.0 11.0 11.0 12.0 11.0 5.0 8.0 11.0 11.0 10.0 10.0 11.0 11.0 8.0 13.0 10.0 11.0 7.0 8.0 7.0 10.0 6.0 3.0 17.0 7.0 8.0 5.0 12.0 10.0 8.0 7.0 11.0 4.0 10.0 12.0 7.0 10.0 8.0 5.0 9.0 9.0 9.0 9.0 9.0 9.0 8.0 5.0 7.0 9.0</y>\n",
      "          </simpledata>\n",
      "          <datafile>\n",
      "            <filename>RBS2PT50CO50_30.odf</filename>\n",
      "          </datafile>\n",
      "        </data>\n",
      "        <process>\n",
      "          <simulations>\n",
      "            <simulation/>\n",
      "          </simulations>\n",
      "        </process>\n",
      "      </spectrum>\n",
      "    </spectra>\n",
      "    <elementsandmolecules>\n",
      "      <molecules>\n",
      "        <nmolecules>3</nmolecules>\n",
      "        <molecule>\n",
      "          <name>Co 1 Pt 1</name>\n",
      "          <density units=\"1e22at/cm3\"></density>\n",
      "          <concentrationmin>0</concentrationmin>\n",
      "          <concentrationmax>1</concentrationmax>\n",
      "          <depthmin>0</depthmin>\n",
      "          <depthmax>1000</depthmax>\n",
      "        </molecule>\n",
      "        <molecule>\n",
      "          <name>Si 1 O 2</name>\n",
      "          <density units=\"1e22at/cm3\"></density>\n",
      "          <concentrationmin>0</concentrationmin>\n",
      "          <concentrationmax>1</concentrationmax>\n",
      "          <depthmin>0</depthmin>\n",
      "          <depthmax>1000</depthmax>\n",
      "        </molecule>\n",
      "        <molecule>\n",
      "          <name>Si</name>\n",
      "          <density units=\"1e22at/cm3\"></density>\n",
      "          <concentrationmin>0</concentrationmin>\n",
      "          <concentrationmax>1</concentrationmax>\n",
      "          <depthmin>300</depthmin>\n",
      "          <depthmax>1e6</depthmax>\n",
      "        </molecule>\n",
      "      </molecules>\n",
      "    </elementsandmolecules>\n",
      "  </sample>\n",
      "</idf>\n"
     ]
    }
   ],
   "source": [
    "idf_file.print_idf_file(mode='XML')"
   ]
  },
  {
   "cell_type": "markdown",
   "id": "42bb77cf",
   "metadata": {},
   "source": [
    "[a](thumb.png)"
   ]
  },
  {
   "cell_type": "code",
   "execution_count": null,
   "id": "b0057496",
   "metadata": {},
   "outputs": [],
   "source": []
  }
 ],
 "metadata": {
  "hide_input": false,
  "kernelspec": {
   "display_name": "Python 3",
   "language": "python",
   "name": "python3"
  },
  "language_info": {
   "codemirror_mode": {
    "name": "ipython",
    "version": 3
   },
   "file_extension": ".py",
   "mimetype": "text/x-python",
   "name": "python",
   "nbconvert_exporter": "python",
   "pygments_lexer": "ipython3",
   "version": "3.8.10"
  },
  "toc": {
   "base_numbering": 1,
   "nav_menu": {},
   "number_sections": true,
   "sideBar": true,
   "skip_h1_title": false,
   "title_cell": "Table of Contents",
   "title_sidebar": "Contents",
   "toc_cell": false,
   "toc_position": {},
   "toc_section_display": true,
   "toc_window_display": true
  }
 },
 "nbformat": 4,
 "nbformat_minor": 5
}
