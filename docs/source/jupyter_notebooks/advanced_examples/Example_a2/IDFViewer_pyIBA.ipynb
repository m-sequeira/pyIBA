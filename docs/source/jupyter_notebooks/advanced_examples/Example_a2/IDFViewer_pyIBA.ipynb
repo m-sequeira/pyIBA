{
 "cells": [
  {
   "cell_type": "markdown",
   "id": "de4640c6",
   "metadata": {},
   "source": [
    "# A2 - Opening IDFViewer from jupyter"
   ]
  },
  {
   "cell_type": "markdown",
   "id": "4b87c266",
   "metadata": {},
   "source": [
    "**IDFViewer** is the Graphic version of **pyID**. To use and learn more about the project head to [IDFViewer](https://github.com/m-sequeira).\n",
    "  \n",
    "Here we are going to demonstrate a useful trick that allows for loading **IDFViewer** directly from the jupyter notebook. This can be very useful checking quickly the IDF files we are working on."
   ]
  },
  {
   "cell_type": "code",
   "execution_count": 1,
   "id": "2c9a1c6c",
   "metadata": {},
   "outputs": [],
   "source": [
    "import sys\n",
    "sys.path.insert(0, '/home/msequeira/Dropbox/CTN/Radiate/IDF_python/GUI/test/')\n",
    "\n",
    "IDFViewer = sys.path[0] + 'NDF_gui.py'"
   ]
  },
  {
   "cell_type": "markdown",
   "id": "b2f9c121",
   "metadata": {},
   "source": [
    "For demonstration, we will use the the IDF file with mutiple techniques created in [Example A1](../Example_a1/Large_IDF_file_RBS-NRA-PIXE-SIMS.ipynb)."
   ]
  },
  {
   "cell_type": "code",
   "execution_count": 2,
   "id": "fa027346",
   "metadata": {},
   "outputs": [],
   "source": [
    "path_file = '../Example_a1/IDF_multi_techinques.xml'"
   ]
  },
  {
   "cell_type": "markdown",
   "id": "dbe123b9",
   "metadata": {},
   "source": [
    "You can edit the file as you want next, just make sure you save the changes. Them, to open the file using the GUI **IDFViewer** run:"
   ]
  },
  {
   "cell_type": "code",
   "execution_count": 3,
   "id": "2529a6fb",
   "metadata": {},
   "outputs": [],
   "source": [
    "!python3 $IDFViewer $path_file"
   ]
  },
  {
   "cell_type": "markdown",
   "id": "d3f4ec45",
   "metadata": {},
   "source": [
    ">**Note**: the handling `python3` will differ from system to system. For instance, I have 3 versions of python installed and python3 corresponds to version 2.7.\n",
    "  \n",
    "The IDFViewer window should show up with the IDF file loaded as shown in the images below.\n",
    "  \n",
    "![IDFViewer](IDFViewer_landing.png)\n",
    "![IDFViewer Results](IDFViewer_results.png)\n",
    "[IDFViewer Results](IDFViewer_results.png)"
   ]
  },
  {
   "cell_type": "code",
   "execution_count": null,
   "id": "7ec6eb68",
   "metadata": {},
   "outputs": [],
   "source": []
  }
 ],
 "metadata": {
  "hide_input": false,
  "kernelspec": {
   "display_name": "Python 3",
   "language": "python",
   "name": "python3"
  },
  "language_info": {
   "codemirror_mode": {
    "name": "ipython",
    "version": 3
   },
   "file_extension": ".py",
   "mimetype": "text/x-python",
   "name": "python",
   "nbconvert_exporter": "python",
   "pygments_lexer": "ipython3",
   "version": "3.8.10"
  },
  "toc": {
   "base_numbering": 1,
   "nav_menu": {},
   "number_sections": true,
   "sideBar": true,
   "skip_h1_title": false,
   "title_cell": "Table of Contents",
   "title_sidebar": "Contents",
   "toc_cell": false,
   "toc_position": {},
   "toc_section_display": true,
   "toc_window_display": false
  }
 },
 "nbformat": 4,
 "nbformat_minor": 5
}
