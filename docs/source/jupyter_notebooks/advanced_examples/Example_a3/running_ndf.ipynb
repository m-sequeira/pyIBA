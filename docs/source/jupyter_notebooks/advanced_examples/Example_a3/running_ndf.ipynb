{
 "cells": [
  {
   "cell_type": "markdown",
   "id": "3447589a",
   "metadata": {},
   "source": [
    "# A3 - NDF and IDF files"
   ]
  },
  {
   "cell_type": "markdown",
   "id": "946942f1",
   "metadata": {},
   "source": [
    "One of the best advantages of the IDF format is that it can save analysis results together with the experimental data. As so, it only makes sense that the analysis codes can work with IDF format and also that the tools to manage IDF can also interact with such codes.\n",
    "  \n",
    "As of now, **pyIBA** can interact with the NDF code, within the subpackage  **pyIBA.codes.NDF**. We exemplify this in the present example.\n",
    "\n",
    ">Note that the IDF class that we have been using so far contains all the methods from the NDF class by class inheritance. \n",
    "\n",
    "We also exemplify how a **jupyter** notebook can be used to store and organize the entire analysis process together with IDF and **pyIBA**."
   ]
  },
  {
   "cell_type": "code",
   "execution_count": 1,
   "id": "aa55ced8",
   "metadata": {},
   "outputs": [],
   "source": [
    "import sys\n",
    "sys.path.insert(0, '/home/msequeira/Dropbox/CTN/Radiate/IDF_python/GUI/test/')\n",
    "\n",
    "from pyIBA import IDF\n",
    "\n",
    "# import the method to run NDF\n",
    "from pyIBA.codes.NDF import run_ndf\n",
    "\n",
    "# import matplotlib\n",
    "import matplotlib.pyplot as plt\n",
    "plt.rcParams.update({'font.size': 12})\n",
    "# %matplotlib notebook"
   ]
  },
  {
   "cell_type": "markdown",
   "id": "a176dc27",
   "metadata": {},
   "source": [
    "## Setting up the IDF file"
   ]
  },
  {
   "cell_type": "markdown",
   "id": "94c58992",
   "metadata": {},
   "source": [
    "As an example, we will use the file created in [Example 1](../../Example1/blank_idf.ipynb) here. We first by copying the file to the folder of the current example:"
   ]
  },
  {
   "cell_type": "code",
   "execution_count": 2,
   "id": "5b58a9a6",
   "metadata": {},
   "outputs": [],
   "source": [
    "!cp ../../Example1/idf_example1.xml idf_example1.xml"
   ]
  },
  {
   "cell_type": "markdown",
   "id": "4ebdfcc3",
   "metadata": {},
   "source": [
    ">**Note**: The above trick is specific for jupyter notebooks on Linux\n",
    "\n",
    "To avoid overwriting the original file, we will save the changes made here in another file:"
   ]
  },
  {
   "cell_type": "code",
   "execution_count": 3,
   "id": "e2519c47",
   "metadata": {},
   "outputs": [],
   "source": [
    "file_path_ori = 'idf_example1.xml'\n",
    "file_path_changed = 'idf_example3.xml'"
   ]
  },
  {
   "cell_type": "markdown",
   "id": "582208ea",
   "metadata": {},
   "source": [
    "Next we load the original IDF file and check its contents using `print_idf_file()`:"
   ]
  },
  {
   "cell_type": "code",
   "execution_count": 4,
   "id": "bfd8dd13",
   "metadata": {},
   "outputs": [
    {
     "name": "stdout",
     "output_type": "stream",
     "text": [
      "=============== idf_example1 ===============\n",
      "idf_example1.xml\n",
      "Miguel Sequeira \n",
      "\n",
      "------------------  Notes  ------------------\n",
      "This file was created during Example 1, it relates to a RBS measurement of a CoPt/SiO2 sample.\n",
      "Something I did after the first note\n",
      "\n",
      "------------------ Elements -----------------\n",
      "nelements \t 3\n",
      "\n",
      " - - - Element 0 - - -\n",
      "name \t\t Co 1 Pt 1\n",
      "density  \t \n",
      "concentration  \t ['0', '1']\n",
      "depth \t\t ['0', '1000']\n",
      "\n",
      " - - - Element 1 - - -\n",
      "name \t\t Si 1 O 2\n",
      "density  \t \n",
      "concentration  \t ['0', '1']\n",
      "depth \t\t ['0', '1000']\n",
      "\n",
      " - - - Element 2 - - -\n",
      "name \t\t Si\n",
      "density  \t \n",
      "concentration  \t ['0', '1']\n",
      "depth \t\t ['300', '1e6']\n",
      "\n",
      "------------------ Profile -----------------\n",
      "nlayers \t\t 2\n",
      "names \t\t ['Co 1 Pt 1', 'Si 1 O 2', 'Si']\n",
      "\n",
      " - - - Layer 0 - - -\n",
      "thickness \t\t 390\n",
      "concentrations  \t ['100', '0', '0']\n",
      "\n",
      " - - - Layer 1 - - -\n",
      "thickness \t\t 550\n",
      "concentrations  \t ['0', '100', '0']\n",
      "\n",
      " - - - Layer 2 - - -\n",
      "thickness \t\t 4000000\n",
      "concentrations  \t ['0', '0', '100']\n",
      "\n",
      "\n",
      "\n",
      "-------- Spectrum 0 (RBS2PT50CO50_30.odf) --------\n",
      "Technique \tRBS\n",
      "\n",
      "Mode \t\t 19\n",
      "Window  \t [100, 1500]\n",
      "Projectile  \t 4He\n",
      "Beam energy  \t 2000.0\n",
      "Beam fwhm  \t 20.0\n",
      "Geometry  \t IBM\n",
      "Angles  \t ['30', '140']\n",
      "Dect solid  \t 11\n",
      "Energy calib  \t [2.28, 105.5]\n",
      "Charge  \t 5\n"
     ]
    },
    {
     "data": {
      "image/png": "[encoded data removed]",
      "text/plain": [
       "<Figure size 432x288 with 1 Axes>"
      ]
     },
     "metadata": {
      "needs_background": "light"
     },
     "output_type": "display_data"
    }
   ],
   "source": [
    "# load file\n",
    "idf_file = IDF(file_path_ori)\n",
    "\n",
    "# print a summary of the IDF contents\n",
    "idf_file.print_idf_file()"
   ]
  },
  {
   "cell_type": "markdown",
   "id": "e5e0a1d1",
   "metadata": {},
   "source": [
    "## Setting the simulation models"
   ]
  },
  {
   "cell_type": "markdown",
   "id": "71722e05",
   "metadata": {},
   "source": [
    "In Example 1, we only paid attention to the experimental data. Thus, the IDF current state has no information on the models and NDF run options. To define them we can either load the **IDFViewer** (as in [Example A2](../Example_a2/IDFViewer_pyIBA.ipynb)) or do it manually as shown next:"
   ]
  },
  {
   "cell_type": "code",
   "execution_count": 5,
   "id": "af50f6ec",
   "metadata": {},
   "outputs": [],
   "source": [
    "idf_file.set_model_pileup('Wielopolski and Gardner (WG - slow)', '')\n",
    "idf_file.set_model_doublescatter('Fast', 1)\n",
    "idf_file.set_model_energyloss('SRIM 2003 (SR03)')\n",
    "idf_file.set_model_straggling('Chu Model', 1)\n",
    "\n",
    "idf_file.set_NDF_run_option('fitmethod', '3 - ')\n",
    "idf_file.set_NDF_run_option('channelcompreesion', '0 - No compression')\n",
    "idf_file.set_NDF_run_option('convolute', '1 - Convolute FWHM')\n",
    "idf_file.set_NDF_run_option('distribution', '0 - Don\\'t use isotropic distribution')\n",
    "idf_file.set_NDF_run_option('smooth', '1 - Smooth data')\n",
    "idf_file.set_NDF_run_option('normalisation', '1 - Normalise profile')\n",
    "\n",
    "## If the technique is not RBS, you need to also add it\n",
    "# idf_file.set_technique('RBS')\n",
    "\n",
    "idf_file.save_idf(file_path_changed);"
   ]
  },
  {
   "cell_type": "markdown",
   "id": "f9ec4097",
   "metadata": {},
   "source": [
    ">**Note**: Remember to save the IDF object into the disk so that the file NDF can load the updated file. If not saved, NDF won't see the changes and the original file is run instead.\n",
    "\n",
    "So now we can run NDF on our IDF object using the imported `pyIBA.codes.IDF`. A terminal windows should open."
   ]
  },
  {
   "cell_type": "code",
   "execution_count": 6,
   "id": "c7d613c2",
   "metadata": {},
   "outputs": [
    {
     "name": "stdout",
     "output_type": "stream",
     "text": [
      "Opening NDF...\n",
      "wine /home/msequeira/Dropbox/CTN/Radiate/IDF_python/GUI/test/pyIBA/codes/NDF_11_MS/NDF.exe idf_example3.xml 3 0 1 0 1 1\n"
     ]
    }
   ],
   "source": [
    "run_ndf(idf_file)"
   ]
  },
  {
   "cell_type": "markdown",
   "id": "c1e69573",
   "metadata": {},
   "source": [
    "## Loading and inspecting the results"
   ]
  },
  {
   "cell_type": "markdown",
   "id": "983e9e25",
   "metadata": {},
   "source": [
    "The results can be loaded while the NDF is still running (obviously not the final ones). For that, we do the following:"
   ]
  },
  {
   "cell_type": "code",
   "execution_count": 7,
   "id": "a9df50f3",
   "metadata": {},
   "outputs": [],
   "source": [
    "idf_file.append_simulation_entry(1)\n",
    "idf_file.set_spectra_result()\n",
    "idf_file.set_elements_result()\n",
    "idf_file.set_profile_result()"
   ]
  },
  {
   "cell_type": "markdown",
   "id": "28ccde41",
   "metadata": {},
   "source": [
    "To plot the experimental and fitted spectra, we do as in the previous examples:"
   ]
  },
  {
   "cell_type": "code",
   "execution_count": 8,
   "id": "85323b04",
   "metadata": {
    "scrolled": false
   },
   "outputs": [
    {
     "data": {
      "image/png": "[encoded data removed]",
      "text/plain": [
       "<Figure size 432x288 with 1 Axes>"
      ]
     },
     "metadata": {
      "needs_background": "light"
     },
     "output_type": "display_data"
    }
   ],
   "source": [
    "fig, ax = plt.subplots(1, 1)\n",
    "\n",
    "xx, yy = idf_file.get_dataxy()\n",
    "xx_fit, yy_fit = idf_file.get_dataxy_fit()\n",
    "\n",
    "ax.plot(xx, yy, 'x')\n",
    "ax.plot(xx_fit, yy_fit)\n",
    "ax.set_xlabel('Energy (Channels)')\n",
    "fig.tight_layout()"
   ]
  },
  {
   "cell_type": "markdown",
   "id": "0cde8106",
   "metadata": {},
   "source": [
    "It turns out, our first try was not so good. To inspect the related profile, we can run:"
   ]
  },
  {
   "cell_type": "code",
   "execution_count": 9,
   "id": "ec4e1298",
   "metadata": {},
   "outputs": [
    {
     "data": {
      "text/plain": [
       "{'nlayers': '4',\n",
       " 0: {'thickness': '472.0', 'concentrations': ['82.459', '17.541', '0.0']},\n",
       " 1: {'thickness': '112.607', 'concentrations': ['21.338', '43.877', '34.785']},\n",
       " 2: {'thickness': '410.724', 'concentrations': ['0.777', '98.919', '0.304']},\n",
       " 3: {'thickness': '7029.21', 'concentrations': ['0.0', '0.0', '100.0']},\n",
       " 'names': ['Co 1 Pt 1', 'Si 1 O 2', 'Si']}"
      ]
     },
     "execution_count": 9,
     "metadata": {},
     "output_type": "execute_result"
    }
   ],
   "source": [
    "profile_results = idf_file.get_profile_fit_result()\n",
    "profile_results"
   ]
  },
  {
   "cell_type": "markdown",
   "id": "7dd1cfbc",
   "metadata": {},
   "source": [
    "## Making some changes and rerunning NDF"
   ]
  },
  {
   "cell_type": "markdown",
   "id": "b91e2805",
   "metadata": {},
   "source": [
    "From the figure above, we realize that one of the reasons for the observed divergence between the fit and the experimental data is that we kept the stoichiometry of the top layer of CoPt constant. Therefore, we the next step will be to change the stoichiometry for an approximated CoPt$_2$ and let NDF change this value (by introducing the familiar '?='). \n",
    "  \n",
    "This is changed in the *elements* part of IDF file. To load this part and print the returning dictionary we do:"
   ]
  },
  {
   "cell_type": "code",
   "execution_count": 10,
   "id": "2d1efe29",
   "metadata": {},
   "outputs": [
    {
     "data": {
      "text/plain": [
       "{'nelements': 3,\n",
       " 0: {'name': 'Co 1 Pt 1',\n",
       "  'density': '',\n",
       "  'concentration': ['0', '1'],\n",
       "  'depth': ['0', '1000']},\n",
       " 1: {'name': 'Si 1 O 2',\n",
       "  'density': '',\n",
       "  'concentration': ['0', '1'],\n",
       "  'depth': ['0', '1000']},\n",
       " 2: {'name': 'Si',\n",
       "  'density': '',\n",
       "  'concentration': ['0', '1'],\n",
       "  'depth': ['300', '1e6']}}"
      ]
     },
     "execution_count": 10,
     "metadata": {},
     "output_type": "execute_result"
    }
   ],
   "source": [
    "elements = idf_file.get_elements()\n",
    "elements"
   ]
  },
  {
   "cell_type": "markdown",
   "id": "f524cde7",
   "metadata": {},
   "source": [
    "or, to simple show the CoPt entry (the *0* element):"
   ]
  },
  {
   "cell_type": "code",
   "execution_count": 11,
   "id": "525a2505",
   "metadata": {},
   "outputs": [
    {
     "data": {
      "text/plain": [
       "{'name': 'Co 1 Pt 1',\n",
       " 'density': '',\n",
       " 'concentration': ['0', '1'],\n",
       " 'depth': ['0', '1000']}"
      ]
     },
     "execution_count": 11,
     "metadata": {},
     "output_type": "execute_result"
    }
   ],
   "source": [
    "elements[0]"
   ]
  },
  {
   "cell_type": "markdown",
   "id": "18fb96c1",
   "metadata": {},
   "source": [
    "To change the formula of the CoPt, we do:"
   ]
  },
  {
   "cell_type": "code",
   "execution_count": 12,
   "id": "41945870",
   "metadata": {},
   "outputs": [],
   "source": [
    "elements[0]['name'] = 'Co ?=0.36 Pt ?=0.64'"
   ]
  },
  {
   "cell_type": "markdown",
   "id": "b3d4ef0f",
   "metadata": {},
   "source": [
    "Finally, to change on the IDF object and afterwards on the IDF file:"
   ]
  },
  {
   "cell_type": "code",
   "execution_count": 13,
   "id": "9be511e5",
   "metadata": {},
   "outputs": [],
   "source": [
    "# set the updated elements dictionary\n",
    "idf_file.set_elements(elements)\n",
    "\n",
    "# save the object to the file\n",
    "idf_file.save_idf(file_path_changed);"
   ]
  },
  {
   "cell_type": "markdown",
   "id": "655b2978",
   "metadata": {},
   "source": [
    "And rerun the NDF:"
   ]
  },
  {
   "cell_type": "code",
   "execution_count": 14,
   "id": "2b01f77d",
   "metadata": {},
   "outputs": [
    {
     "name": "stdout",
     "output_type": "stream",
     "text": [
      "Opening NDF...\n",
      "wine /home/msequeira/Dropbox/CTN/Radiate/IDF_python/GUI/test/pyIBA/codes/NDF_11_MS/NDF.exe idf_example3.xml 3 0 1 0 1 1\n"
     ]
    }
   ],
   "source": [
    "run_ndf(idf_file)"
   ]
  },
  {
   "cell_type": "markdown",
   "id": "ad1a2f8d",
   "metadata": {},
   "source": [
    "To load the results into the IDF file and check then here we do as before (in fact, since we are reusing so much this part of the code we should have made a function for it at the beginning):"
   ]
  },
  {
   "cell_type": "code",
   "execution_count": 15,
   "id": "6b3e18b2",
   "metadata": {},
   "outputs": [
    {
     "data": {
      "image/png": "[encoded data removed]",
      "text/plain": [
       "<Figure size 432x288 with 1 Axes>"
      ]
     },
     "metadata": {
      "needs_background": "light"
     },
     "output_type": "display_data"
    }
   ],
   "source": [
    "idf_file.set_spectra_result()\n",
    "idf_file.set_elements_result()\n",
    "idf_file.set_profile_result()\n",
    "\n",
    "plt.figure()\n",
    "\n",
    "xx, yy = idf_file.get_dataxy()\n",
    "xx_fit, yy_fit = idf_file.get_dataxy_fit()\n",
    "\n",
    "plt.plot(xx, yy, 'x')\n",
    "plt.plot(xx_fit, yy_fit)\n",
    "plt.xlabel('Energy (Channel)')\n",
    "plt.tight_layout()"
   ]
  },
  {
   "cell_type": "markdown",
   "id": "b4113395",
   "metadata": {},
   "source": [
    "Much better, despite with still room to improve. This is left to the enthusiastic reader of this tutorial.\n",
    "  \n",
    "To check the new stoichiometry:"
   ]
  },
  {
   "cell_type": "code",
   "execution_count": 16,
   "id": "7fe7c124",
   "metadata": {},
   "outputs": [
    {
     "data": {
      "text/plain": [
       "{'nelements': '3',\n",
       " 0: 'Co 0.371194 Pt 0.628806',\n",
       " 1: 'Si 0.3333 O 0.6667',\n",
       " 2: 'Si'}"
      ]
     },
     "execution_count": 16,
     "metadata": {},
     "output_type": "execute_result"
    }
   ],
   "source": [
    "elements_results = idf_file.get_elements_fit_result()\n",
    "elements_results"
   ]
  },
  {
   "cell_type": "markdown",
   "id": "4422ffd3",
   "metadata": {},
   "source": [
    "As expected, the stoichiometry is indeed different than the expected one. To check the profile:"
   ]
  },
  {
   "cell_type": "code",
   "execution_count": 17,
   "id": "c1acb70a",
   "metadata": {},
   "outputs": [
    {
     "data": {
      "text/plain": [
       "{'nlayers': '6',\n",
       " 0: {'thickness': '300.0', 'concentrations': ['83.693', '16.307', '0.0']},\n",
       " 1: {'thickness': '152.045', 'concentrations': ['82.601', '10.15', '7.25']},\n",
       " 2: {'thickness': '85.18', 'concentrations': ['20.311', '47.837', '31.852']},\n",
       " 3: {'thickness': '27.511', 'concentrations': ['14.939', '80.063', '4.998']},\n",
       " 4: {'thickness': '435.186', 'concentrations': ['0.617', '96.34', '3.044']},\n",
       " 5: {'thickness': '29345.6', 'concentrations': ['0.0', '0.0', '100.0']},\n",
       " 'names': ['Co 0.36 Pt 0.64', 'Si 1 O 2', 'Si']}"
      ]
     },
     "execution_count": 17,
     "metadata": {},
     "output_type": "execute_result"
    }
   ],
   "source": [
    "idf_file.get_profile_fit_result()"
   ]
  },
  {
   "cell_type": "markdown",
   "id": "59e22217",
   "metadata": {},
   "source": [
    "The important layers are the *0, 4* and *5*. The remaining ones are a bit unrealistic."
   ]
  },
  {
   "cell_type": "markdown",
   "id": "1d1adb7c",
   "metadata": {},
   "source": [
    "Before trying something else, lets first save this state to another file:"
   ]
  },
  {
   "cell_type": "code",
   "execution_count": 18,
   "id": "a9766e34",
   "metadata": {},
   "outputs": [],
   "source": [
    "file_path_changed_14 = 'idf_example3-14.xml'\n",
    "\n",
    "idf_file.save_idf(file_path_changed_14);"
   ]
  },
  {
   "cell_type": "markdown",
   "id": "d1ba0758",
   "metadata": {},
   "source": [
    "## Changing the models and the run options"
   ]
  },
  {
   "cell_type": "markdown",
   "id": "2025d673",
   "metadata": {},
   "source": [
    "Lets try now a quick local search since we might have already some idea of what is going on. it appears that NDF wants to put some extra Si in the transition layer between CoPt and SiO$_2$. So we change the depth at which Si and SiO$_2$ can exist:"
   ]
  },
  {
   "cell_type": "code",
   "execution_count": 19,
   "id": "738e50c6",
   "metadata": {},
   "outputs": [
    {
     "data": {
      "text/plain": [
       "{'nelements': 3,\n",
       " 0: {'name': 'Co 0.371194 Pt 0.628806',\n",
       "  'density': '',\n",
       "  'concentration': ['0', '1'],\n",
       "  'depth': ['0', '1000']},\n",
       " 1: {'name': 'Si 0.3333 O 0.6667',\n",
       "  'density': '',\n",
       "  'concentration': ['0', '1'],\n",
       "  'depth': [500, 1000]},\n",
       " 2: {'name': 'Si',\n",
       "  'density': '',\n",
       "  'concentration': ['0', '1'],\n",
       "  'depth': [0, 1000000.0]}}"
      ]
     },
     "execution_count": 19,
     "metadata": {},
     "output_type": "execute_result"
    }
   ],
   "source": [
    "for i in range(elements['nelements']):\n",
    "    elements[i]['name'] = elements_results[i]\n",
    "    \n",
    "elements[2]['depth'] = [0, 1e6]\n",
    "elements[1]['depth'] = [500, 1000]\n",
    "\n",
    "elements"
   ]
  },
  {
   "cell_type": "markdown",
   "id": "c1ccbed9",
   "metadata": {},
   "source": [
    "We also change the profile so that it includes 5% of Si on the top layer:"
   ]
  },
  {
   "cell_type": "code",
   "execution_count": 20,
   "id": "4707bceb",
   "metadata": {},
   "outputs": [
    {
     "data": {
      "text/plain": [
       "{'nlayers': 2,\n",
       " 'names': ['Co ?=0.36 Pt ?=0.64', 'Si 1 O 2', 'Si'],\n",
       " 0: {'thickness': 500, 'concentrations': [95, 0, 5]},\n",
       " 1: {'thickness': '550', 'concentrations': ['0', '100', '0']},\n",
       " 2: {'thickness': '4000000', 'concentrations': ['0', '0', '100']}}"
      ]
     },
     "execution_count": 20,
     "metadata": {},
     "output_type": "execute_result"
    }
   ],
   "source": [
    "profile = idf_file.get_profile()\n",
    "profile[0]['concentrations'] = [95, 0, 5]\n",
    "profile[0]['thickness'] = 500\n",
    "\n",
    "profile"
   ]
  },
  {
   "cell_type": "markdown",
   "id": "88a26bbc",
   "metadata": {},
   "source": [
    "We also change the Double Scattering model to *Normal* and set the fitting method to the local search (*x* in the NDF terminology):"
   ]
  },
  {
   "cell_type": "code",
   "execution_count": 21,
   "id": "ce5dda58",
   "metadata": {},
   "outputs": [],
   "source": [
    "idf_file.set_model_doublescatter('Normal', 1)\n",
    "\n",
    "idf_file.set_NDF_run_option('fitmethod', 'x - ')"
   ]
  },
  {
   "cell_type": "markdown",
   "id": "1a7b8300",
   "metadata": {},
   "source": [
    "We add the updated elements and the profile to the IDF object and save it:"
   ]
  },
  {
   "cell_type": "code",
   "execution_count": 22,
   "id": "d40ee274",
   "metadata": {},
   "outputs": [],
   "source": [
    "idf_file.set_elements(elements)\n",
    "idf_file.set_profile(profile)\n",
    "\n",
    "idf_file.save_idf(file_path_changed);"
   ]
  },
  {
   "cell_type": "markdown",
   "id": "218e63c4",
   "metadata": {},
   "source": [
    "And run NDF again"
   ]
  },
  {
   "cell_type": "code",
   "execution_count": 23,
   "id": "b782b70b",
   "metadata": {},
   "outputs": [
    {
     "name": "stdout",
     "output_type": "stream",
     "text": [
      "Opening NDF...\n",
      "wine /home/msequeira/Dropbox/CTN/Radiate/IDF_python/GUI/test/pyIBA/codes/NDF_11_MS/NDF.exe idf_example3.xml x 0 1 0 1 1\n"
     ]
    }
   ],
   "source": [
    "run_ndf(idf_file)"
   ]
  },
  {
   "cell_type": "code",
   "execution_count": 27,
   "id": "346e8706",
   "metadata": {},
   "outputs": [
    {
     "data": {
      "image/png": "[encoded data removed]",
      "text/plain": [
       "<Figure size 432x288 with 1 Axes>"
      ]
     },
     "metadata": {
      "needs_background": "light"
     },
     "output_type": "display_data"
    }
   ],
   "source": [
    "idf_file.set_spectra_result()\n",
    "idf_file.set_elements_result()\n",
    "idf_file.set_profile_result()\n",
    "\n",
    "plt.figure()\n",
    "\n",
    "xx, yy = idf_file.get_dataxy()\n",
    "xx_fit, yy_fit = idf_file.get_dataxy_fit()\n",
    "\n",
    "plt.plot(xx, yy, 'x')\n",
    "plt.plot(xx_fit, yy_fit)\n",
    "plt.xlabel('Energy (Channel)')\n",
    "plt.tight_layout()"
   ]
  },
  {
   "cell_type": "code",
   "execution_count": 28,
   "id": "9a00aa35",
   "metadata": {},
   "outputs": [
    {
     "data": {
      "text/plain": [
       "{'nelements': '3', 0: 'Co 0.3712 Pt 0.6288', 1: 'Si 0.3333 O 0.6667', 2: 'Si'}"
      ]
     },
     "execution_count": 28,
     "metadata": {},
     "output_type": "execute_result"
    }
   ],
   "source": [
    "idf_file.get_elements_fit_result()"
   ]
  },
  {
   "cell_type": "code",
   "execution_count": 29,
   "id": "0b446302",
   "metadata": {},
   "outputs": [
    {
     "data": {
      "text/plain": [
       "{'nlayers': '2',\n",
       " 0: {'thickness': '462.034', 'concentrations': ['93.779', '0.0', '6.221']},\n",
       " 1: {'thickness': '3484.13', 'concentrations': ['0.0', '0.0', '100.0']},\n",
       " 'names': ['Co 0.371194 Pt 0.628806', 'Si 0.3333 O 0.6667', 'Si']}"
      ]
     },
     "execution_count": 29,
     "metadata": {},
     "output_type": "execute_result"
    }
   ],
   "source": [
    "idf_file.get_profile_fit_result()"
   ]
  },
  {
   "cell_type": "markdown",
   "id": "408d7205",
   "metadata": {},
   "source": [
    "Not so good after all..."
   ]
  },
  {
   "cell_type": "markdown",
   "id": "f35b4833",
   "metadata": {},
   "source": [
    "# Fitting multiple spectra in the same IDF"
   ]
  },
  {
   "cell_type": "markdown",
   "id": "db77822c",
   "metadata": {},
   "source": [
    "We now focus on a more interesting symbiosis between **pyIBA** and **NDF**: **Multi-fitting**\n",
    "  \n",
    "To exemplify this, we will:\n",
    "1. add another RBS spectrum to the IDF file used above obtained from the same sample but with a different incident angle;\n",
    "2. run NDF on this IDF file in two configurations:\n",
    "    - multi-fitting using both spectra;\n",
    "    - fit each single spectrum independently (i.e. in batch mode).\n",
    "    \n",
    "We start with the IDF file saved in point in section [Making Some Changes](../Example_a3/running_ndf.ipynb#Making-some-changes-and-rerunning-NDF):"
   ]
  },
  {
   "cell_type": "code",
   "execution_count": 30,
   "id": "77c8d186",
   "metadata": {},
   "outputs": [],
   "source": [
    "# load previous IDF\n",
    "idf_file = IDF(file_path_changed_14)\n",
    " \n",
    "# set path to new spectrum data\n",
    "file2_path = 'RBS2PT50CO50_5.odf'"
   ]
  },
  {
   "cell_type": "markdown",
   "id": "4c3b6d5e",
   "metadata": {},
   "source": [
    "As done in [Example 4](../../Example4/muitple_spectra_IDF.ipynb#4---Adding-multiple-spectra-to-a-single-IDF-file), we \n",
    "1. append another spectrum entry to the IDF object;\n",
    "2. add the data to this new entry by setting `spectra_id = 1`;\n",
    "3. copy the parameters from the first spectrum to the new one by using `unify_geo_parameters()`;\n",
    "4. change the incident angle of the second spectra using `set_incident_angle(5, spectra_id = 1)`;\n",
    "5. check and save the new IDF."
   ]
  },
  {
   "cell_type": "code",
   "execution_count": 31,
   "id": "5282dc76",
   "metadata": {
    "scrolled": false
   },
   "outputs": [
    {
     "name": "stdout",
     "output_type": "stream",
     "text": [
      "=============== idf_example3 ===============\n",
      "idf_example3.xml\n",
      "Miguel Sequeira \n",
      "\n",
      "------------------  Notes  ------------------\n",
      "This file was created during Example 1, it relates to a RBS measurement of a CoPt/SiO2 sample.\n",
      "Something I did after the first note\n",
      "\n",
      "------------------ Elements -----------------\n",
      "nelements \t 3\n",
      "\n",
      " - - - Element 0 - - -\n",
      "name \t\t Co ?=0.36 Pt ?=0.64\n",
      "density  \t \n",
      "concentration  \t ['0', '1']\n",
      "depth \t\t ['0', '1000']\n",
      "\n",
      " - - - Element 1 - - -\n",
      "name \t\t Si 1 O 2\n",
      "density  \t \n",
      "concentration  \t ['0', '1']\n",
      "depth \t\t ['0', '1000']\n",
      "\n",
      " - - - Element 2 - - -\n",
      "name \t\t Si\n",
      "density  \t \n",
      "concentration  \t ['0', '1']\n",
      "depth \t\t ['300', '1e6']\n",
      "\n",
      "------------------ Profile -----------------\n",
      "nlayers \t\t 2\n",
      "names \t\t ['Co ?=0.36 Pt ?=0.64', 'Si 1 O 2', 'Si']\n",
      "\n",
      " - - - Layer 0 - - -\n",
      "thickness \t\t 390\n",
      "concentrations  \t ['100', '0', '0']\n",
      "\n",
      " - - - Layer 1 - - -\n",
      "thickness \t\t 550\n",
      "concentrations  \t ['0', '100', '0']\n",
      "\n",
      " - - - Layer 2 - - -\n",
      "thickness \t\t 4000000\n",
      "concentrations  \t ['0', '0', '100']\n",
      "\n",
      "\n",
      "\n",
      "-------- Spectrum 0 (RBS2PT50CO50_30.odf) --------\n",
      "Technique \tRBS\n",
      "\n",
      "Mode \t\t 19\n",
      "Window  \t [100, 1500]\n",
      "Projectile  \t 4He\n",
      "Beam energy  \t 2000.0\n",
      "Beam fwhm  \t 20.0\n",
      "Geometry  \t IBM\n",
      "Angles  \t ['30', '140']\n",
      "Dect solid  \t 11\n",
      "Energy calib  \t [2.28, 105.5]\n",
      "Charge  \t 5\n",
      "-------- Spectrum 1 (RBS2PT50CO50_5.odf) --------\n",
      "Technique \tRBS\n",
      "\n",
      "Mode \t\t 19\n",
      "Window  \t [100, 1500]\n",
      "Projectile  \t 4He\n",
      "Beam energy  \t 2000.0\n",
      "Beam fwhm  \t 20.0\n",
      "Geometry  \t IBM\n",
      "Angles  \t ['5', '140']\n",
      "Dect solid  \t 11\n",
      "Energy calib  \t [2.28, 105.5]\n",
      "Charge  \t 5\n"
     ]
    },
    {
     "data": {
      "image/png": "[encoded data removed]",
      "text/plain": [
       "<Figure size 432x288 with 1 Axes>"
      ]
     },
     "metadata": {
      "needs_background": "light"
     },
     "output_type": "display_data"
    },
    {
     "data": {
      "image/png": "[encoded data removed]",
      "text/plain": [
       "<Figure size 432x288 with 1 Axes>"
      ]
     },
     "metadata": {
      "needs_background": "light"
     },
     "output_type": "display_data"
    }
   ],
   "source": [
    "# append entry\n",
    "idf_file.append_spectrum_entry(2)\n",
    "# add spectrum data\n",
    "idf_file.set_spectrum_data_from_file(file2_path, spectra_id=1)\n",
    "# copy parameters from spectrum 0 to spectrum 1\n",
    "idf_file.unify_geo_parameters()\n",
    "\n",
    "# change incident angle of spectrum 1\n",
    "idf_file.set_incident_angle(5, spectra_id=1)\n",
    "\n",
    "# save and check\n",
    "idf_file.save_idf(file_path_changed)\n",
    "idf_file.print_idf_file()"
   ]
  },
  {
   "cell_type": "markdown",
   "id": "f0841154",
   "metadata": {},
   "source": [
    "## Multi-fitting"
   ]
  },
  {
   "cell_type": "markdown",
   "id": "95dc292f",
   "metadata": {},
   "source": [
    "We can now performing a multi-fit by simply running:"
   ]
  },
  {
   "cell_type": "code",
   "execution_count": 32,
   "id": "630b3309",
   "metadata": {},
   "outputs": [
    {
     "name": "stdout",
     "output_type": "stream",
     "text": [
      "Opening NDF...\n",
      "wine /home/msequeira/Dropbox/CTN/Radiate/IDF_python/GUI/test/pyIBA/codes/NDF_11_MS/NDF.exe idf_example3.xml 3 0 1 0 1 1\n"
     ]
    }
   ],
   "source": [
    "run_ndf(idf_file)"
   ]
  },
  {
   "cell_type": "markdown",
   "id": "d3b44777",
   "metadata": {},
   "source": [
    "To check the results, we do as before:"
   ]
  },
  {
   "cell_type": "code",
   "execution_count": 34,
   "id": "e1398cdd",
   "metadata": {},
   "outputs": [
    {
     "data": {
      "image/png": "[encoded data removed]",
      "text/plain": [
       "<Figure size 576x432 with 1 Axes>"
      ]
     },
     "metadata": {
      "needs_background": "light"
     },
     "output_type": "display_data"
    }
   ],
   "source": [
    "# the load the changes made by NDF (in fact by IDF2NDF) \n",
    "idf_file = IDF(file_path_changed)\n",
    "\n",
    "plt.figure(figsize=((8,6)))\n",
    "\n",
    "# loop through each spectrum and plot the experimental and best fit data\n",
    "for i in range(idf_file.get_number_of_spectra()):\n",
    "    idf_file.set_spectra_result(spectra_id = i)\n",
    "    idf_file.set_elements_result(spectra_id = i)\n",
    "    idf_file.set_profile_result(spectra_id = i)\n",
    "    \n",
    "    xx, yy = idf_file.get_dataxy(spectra_id = i)\n",
    "    xx_fit, yy_fit = idf_file.get_dataxy_fit(spectra_id = i)\n",
    "\n",
    "    plt.plot(xx, yy, 'x')\n",
    "    plt.plot(xx_fit, yy_fit)\n",
    "plt.xlabel('Energy (Channel)')\n",
    "plt.tight_layout()"
   ]
  },
  {
   "cell_type": "markdown",
   "id": "a4513431",
   "metadata": {},
   "source": [
    "Check the elements and profile that result in the best fit:"
   ]
  },
  {
   "cell_type": "code",
   "execution_count": 35,
   "id": "3dd83312",
   "metadata": {},
   "outputs": [
    {
     "data": {
      "text/plain": [
       "{'nelements': '3',\n",
       " 0: 'Co 0.359368 Pt 0.640632',\n",
       " 1: 'Si 0.3333 O 0.6667',\n",
       " 2: 'Si'}"
      ]
     },
     "execution_count": 35,
     "metadata": {},
     "output_type": "execute_result"
    }
   ],
   "source": [
    "idf_file.get_elements_fit_result()"
   ]
  },
  {
   "cell_type": "code",
   "execution_count": 36,
   "id": "a0f8e210",
   "metadata": {},
   "outputs": [
    {
     "data": {
      "text/plain": [
       "{'nlayers': '5',\n",
       " 0: {'thickness': '300.0', 'concentrations': ['67.46', '32.54', '0.0']},\n",
       " 1: {'thickness': '174.92', 'concentrations': ['69.089', '29.791', '1.12']},\n",
       " 2: {'thickness': '79.433', 'concentrations': ['25.785', '30.609', '43.606']},\n",
       " 3: {'thickness': '445.647', 'concentrations': ['0.445', '99.555', '0.0']},\n",
       " 4: {'thickness': '25544.8', 'concentrations': ['0.0', '0.0', '100.0']},\n",
       " 'names': ['Co 0.36 Pt 0.64', 'Si 1 O 2', 'Si']}"
      ]
     },
     "execution_count": 36,
     "metadata": {},
     "output_type": "execute_result"
    }
   ],
   "source": [
    "idf_file.get_profile_fit_result()"
   ]
  },
  {
   "cell_type": "markdown",
   "id": "1de5eb54",
   "metadata": {},
   "source": [
    "## Independently"
   ]
  },
  {
   "cell_type": "markdown",
   "id": "46c220f0",
   "metadata": {},
   "source": [
    "To fit the two spectra independently, we need to first associated them to different simulations groups using `set_simulation_group()`:"
   ]
  },
  {
   "cell_type": "code",
   "execution_count": 37,
   "id": "ae5bba47",
   "metadata": {},
   "outputs": [],
   "source": [
    "idf_file.set_simulation_group(0, spectra_id=0)\n",
    "idf_file.set_simulation_group(1, spectra_id=1)\n",
    "\n",
    "idf_file.save_idf(file_path_changed);"
   ]
  },
  {
   "cell_type": "markdown",
   "id": "261913a0",
   "metadata": {},
   "source": [
    "Note that you can associate several spectra to the same simulation group. A multi-fitting procedure will be run on each simulation group. For instance, if the IDF contains 3 spectra and we separate them as follows:\n",
    "\n",
    "```python\n",
    "#spectrum 0 goes to group 0\n",
    "idf_file.set_simulation_group(0, spectra_id=0)\n",
    "\n",
    "#spectra 1 and 2 go to group 1\n",
    "idf_file.set_simulation_group(1, spectra_id=1)    \n",
    "idf_file.set_simulation_group(1, spectra_id=2)\n",
    "```\n",
    "\n",
    "NDF will first analyse spectrum 0 alone and them spectra 1 and 2 simultaneously (i.e. multi-fit).\n",
    "\n",
    "Returning to our IDF with two spectra:"
   ]
  },
  {
   "cell_type": "code",
   "execution_count": 38,
   "id": "d7c08f30",
   "metadata": {},
   "outputs": [
    {
     "name": "stdout",
     "output_type": "stream",
     "text": [
      "Opening NDF...\n",
      "wine /home/msequeira/Dropbox/CTN/Radiate/IDF_python/GUI/test/pyIBA/codes/NDF_11_MS/NDF.exe idf_example3.xml 3 0 1 0 1 1\n"
     ]
    }
   ],
   "source": [
    "run_ndf(idf_file)"
   ]
  },
  {
   "cell_type": "markdown",
   "id": "e6843a74",
   "metadata": {},
   "source": [
    "To load the results:"
   ]
  },
  {
   "cell_type": "code",
   "execution_count": 40,
   "id": "dc6fac6d",
   "metadata": {
    "tags": [
     "nbsphinx-thumbnail"
    ]
   },
   "outputs": [
    {
     "data": {
      "image/png": "[encoded data removed]",
      "text/plain": [
       "<Figure size 576x432 with 1 Axes>"
      ]
     },
     "metadata": {
      "needs_background": "light"
     },
     "output_type": "display_data"
    }
   ],
   "source": [
    "# the load the changes made by NDF (in fact by IDF2NDF)\n",
    "# in particular to load the output file name codes that are\n",
    "# stored in the IDF\n",
    "idf_file = IDF(file_path_changed)\n",
    "plt.figure(figsize=(8,6))\n",
    "\n",
    "for i in range(idf_file.get_number_of_spectra()):\n",
    "    idf_file.set_spectra_result(spectra_id = i)\n",
    "    idf_file.set_elements_result(spectra_id = i)\n",
    "    idf_file.set_profile_result(spectra_id = i)\n",
    "    \n",
    "    xx, yy = idf_file.get_dataxy(spectra_id = i)\n",
    "    xx_fit, yy_fit = idf_file.get_dataxy_fit(spectra_id = i)\n",
    "\n",
    "    plt.plot(xx, yy, 'x')\n",
    "    plt.plot(xx_fit, yy_fit)\n",
    "plt.xlabel('Energy (Channel)')\n",
    "plt.tight_layout()"
   ]
  },
  {
   "cell_type": "code",
   "execution_count": 41,
   "id": "a7f5ae4a",
   "metadata": {},
   "outputs": [
    {
     "data": {
      "text/plain": [
       "{'nelements': '3',\n",
       " 0: 'Co 0.362357 Pt 0.637643',\n",
       " 1: 'Si 0.3333 O 0.6667',\n",
       " 2: 'Si'}"
      ]
     },
     "execution_count": 41,
     "metadata": {},
     "output_type": "execute_result"
    }
   ],
   "source": [
    "idf_file.get_elements_fit_result()"
   ]
  },
  {
   "cell_type": "code",
   "execution_count": 42,
   "id": "07c1c187",
   "metadata": {},
   "outputs": [
    {
     "data": {
      "text/plain": [
       "{'nlayers': '7',\n",
       " 0: {'thickness': '300.0', 'concentrations': ['76.697', '23.303', '0.0']},\n",
       " 1: {'thickness': '0.0', 'concentrations': ['84.086', '8.071', '7.843']},\n",
       " 2: {'thickness': '167.852', 'concentrations': ['78.992', '17.866', '3.143']},\n",
       " 3: {'thickness': '6.729', 'concentrations': ['35.454', '37.44', '27.106']},\n",
       " 4: {'thickness': '102.975', 'concentrations': ['19.972', '54.652', '25.376']},\n",
       " 5: {'thickness': '422.444', 'concentrations': ['0.655', '99.345', '0.0']},\n",
       " 6: {'thickness': '11534.0', 'concentrations': ['0.0', '0.0', '100.0']},\n",
       " 'names': ['Co 0.36 Pt 0.64', 'Si 1 O 2', 'Si']}"
      ]
     },
     "execution_count": 42,
     "metadata": {},
     "output_type": "execute_result"
    }
   ],
   "source": [
    "idf_file.get_profile_fit_result()"
   ]
  }
 ],
 "metadata": {
  "hide_input": false,
  "kernelspec": {
   "display_name": "Python 3",
   "language": "python",
   "name": "python3"
  },
  "language_info": {
   "codemirror_mode": {
    "name": "ipython",
    "version": 3
   },
   "file_extension": ".py",
   "mimetype": "text/x-python",
   "name": "python",
   "nbconvert_exporter": "python",
   "pygments_lexer": "ipython3",
   "version": "3.8.10"
  },
  "toc": {
   "base_numbering": 1,
   "nav_menu": {},
   "number_sections": true,
   "sideBar": true,
   "skip_h1_title": false,
   "title_cell": "Table of Contents",
   "title_sidebar": "Contents",
   "toc_cell": false,
   "toc_position": {
    "height": "calc(100% - 180px)",
    "left": "10px",
    "top": "150px",
    "width": "252.267px"
   },
   "toc_section_display": true,
   "toc_window_display": true
  }
 },
 "nbformat": 4,
 "nbformat_minor": 5
}
