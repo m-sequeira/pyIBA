{
 "cells": [
  {
   "cell_type": "markdown",
   "id": "a51f9432",
   "metadata": {},
   "source": [
    "# A5 - Creating IDF files from NDF files"
   ]
  },
  {
   "cell_type": "code",
   "execution_count": 1,
   "id": "cfe7f43f",
   "metadata": {},
   "outputs": [],
   "source": [
    "import sys\n",
    "sys.path.insert(0, '/home/msequeira/Dropbox/CTN/Radiate/IDF_python/GUI/test/')\n",
    "\n",
    "from pyIBA import IDF"
   ]
  },
  {
   "cell_type": "code",
   "execution_count": 2,
   "id": "53167b28",
   "metadata": {},
   "outputs": [
    {
     "data": {
      "text/plain": [
       "<pyIBA.IDF.IDF at 0x7f08e2df8160>"
      ]
     },
     "execution_count": 2,
     "metadata": {},
     "output_type": "execute_result"
    }
   ],
   "source": [
    "idf_file = IDF()\n",
    "\n",
    "\n",
    "idf_file.set_data_from_geo_file('../Example3/raw_data_files/G_RBS_2300_00_30.GEO')\n",
    "idf_file.set_charge(5)\n",
    "idf_file.set_data_from_str_file('../Example3/raw_data_files/2IN.str', type = 'initial')\n",
    "idf_file.set_spectrum_data_from_file('../Example3/raw_data_files/RBS1_2IN_P_1.odf')\n",
    "\n",
    "idf_file.save_idf('../Example3/idf_example3_1.xml')"
   ]
  },
  {
   "cell_type": "code",
   "execution_count": 3,
   "id": "e470fa6a",
   "metadata": {},
   "outputs": [
    {
     "data": {
      "text/plain": [
       "{'mode': 19,\n",
       " 'window': ['40', '600'],\n",
       " 'projectile': '1H',\n",
       " 'beam_energy': 2300.0,\n",
       " 'beam_FWHM': 30.0,\n",
       " 'geometry': 'ibm',\n",
       " 'angles': ['0', '150'],\n",
       " 'dect_solid': '6.00',\n",
       " 'energy_calib': [4.25, 42.14],\n",
       " 'charge': '5'}"
      ]
     },
     "execution_count": 3,
     "metadata": {},
     "output_type": "execute_result"
    }
   ],
   "source": [
    "idf_file.get_geo_parameters()"
   ]
  },
  {
   "cell_type": "code",
   "execution_count": null,
   "id": "9dd905ea",
   "metadata": {},
   "outputs": [],
   "source": []
  }
 ],
 "metadata": {
  "hide_input": false,
  "kernelspec": {
   "display_name": "Python 3",
   "language": "python",
   "name": "python3"
  },
  "language_info": {
   "codemirror_mode": {
    "name": "ipython",
    "version": 3
   },
   "file_extension": ".py",
   "mimetype": "text/x-python",
   "name": "python",
   "nbconvert_exporter": "python",
   "pygments_lexer": "ipython3",
   "version": "3.8.10"
  },
  "toc": {
   "base_numbering": 1,
   "nav_menu": {},
   "number_sections": true,
   "sideBar": true,
   "skip_h1_title": false,
   "title_cell": "Table of Contents",
   "title_sidebar": "Contents",
   "toc_cell": false,
   "toc_position": {},
   "toc_section_display": true,
   "toc_window_display": false
  }
 },
 "nbformat": 4,
 "nbformat_minor": 5
}
