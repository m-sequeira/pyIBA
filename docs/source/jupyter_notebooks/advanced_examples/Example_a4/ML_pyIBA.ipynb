{
 "cells": [
  {
   "cell_type": "markdown",
   "id": "ea683fda",
   "metadata": {},
   "source": [
    "# A4 - pyIBA and Tensorflow: Machine Learning demo"
   ]
  },
  {
   "cell_type": "code",
   "execution_count": 1,
   "id": "57e429f1",
   "metadata": {},
   "outputs": [],
   "source": [
    "import sys\n",
    "sys.path.insert(0, '/home/msequeira/Dropbox/CTN/Radiate/IDF_python/GUI/test/')\n",
    "\n",
    "from pyIBA import IDF\n",
    "from pyIBA.codes.NDF import run_ndf, read_str_file\n",
    "\n",
    "IDFViewer = sys.path[0] + 'NDF_gui.py'\n",
    "\n",
    "sys.path.insert(1, '/home/msequeira/Dropbox/CTN/jupyter_notebooks/RBSpy/')\n",
    "from RBSpy import rbsAux\n",
    "\n",
    "from os import mkdir\n",
    "from os.path import dirname\n",
    "\n",
    "import numpy as np\n",
    "import matplotlib.pyplot as plt\n",
    "\n",
    "# %matplotlib notebook\n",
    "%matplotlib inline"
   ]
  },
  {
   "cell_type": "markdown",
   "id": "ac0e827f",
   "metadata": {},
   "source": [
    "# Create the IDF file"
   ]
  },
  {
   "cell_type": "code",
   "execution_count": 2,
   "id": "78f9cf60",
   "metadata": {},
   "outputs": [],
   "source": [
    "save_path = '../Example_a4/original_file.xml'"
   ]
  },
  {
   "cell_type": "code",
   "execution_count": 3,
   "id": "91b3b471",
   "metadata": {},
   "outputs": [],
   "source": [
    "idf_file = IDF(save_path)"
   ]
  },
  {
   "cell_type": "markdown",
   "id": "0d88e6b0",
   "metadata": {},
   "source": [
    "## Define molecules"
   ]
  },
  {
   "cell_type": "code",
   "execution_count": 4,
   "id": "8ba1dbb8",
   "metadata": {},
   "outputs": [],
   "source": [
    "molecules = {'nelements': '3',\n",
    "             0: {'name': 'Co 0.45 Pt 0.55',\n",
    "              'density': '',\n",
    "              'concentration': ['0', '5000'],\n",
    "              'depth': ['0','1']},\n",
    "             1: {'name': 'Si 1 O 2',\n",
    "              'density': '',\n",
    "              'concentration': ['0','5000'],\n",
    "              'depth': ['0','1']},\n",
    "             2: {'name': 'Si',\n",
    "              'density': '',\n",
    "              'concentration': ['100','10000000'],\n",
    "              'depth':[ '0', '1']}}\n",
    "\n",
    "idf_file.set_elements(molecules)"
   ]
  },
  {
   "cell_type": "code",
   "execution_count": 5,
   "id": "0886cd04",
   "metadata": {},
   "outputs": [
    {
     "data": {
      "text/plain": [
       "{'nelements': 3,\n",
       " 0: {'name': 'Co 0.45 Pt 0.55',\n",
       "  'density': '',\n",
       "  'concentration': ['0', '5000'],\n",
       "  'depth': ['0', '1']},\n",
       " 1: {'name': 'Si 1 O 2',\n",
       "  'density': '',\n",
       "  'concentration': ['0', '5000'],\n",
       "  'depth': ['0', '1']},\n",
       " 2: {'name': 'Si',\n",
       "  'density': '',\n",
       "  'concentration': ['100', '10000000'],\n",
       "  'depth': ['0', '1']}}"
      ]
     },
     "execution_count": 5,
     "metadata": {},
     "output_type": "execute_result"
    }
   ],
   "source": [
    "idf_file.get_elements()"
   ]
  },
  {
   "cell_type": "markdown",
   "id": "623e1bc2",
   "metadata": {},
   "source": [
    "## Define profile"
   ]
  },
  {
   "cell_type": "code",
   "execution_count": 6,
   "id": "9e0bebf9",
   "metadata": {},
   "outputs": [],
   "source": [
    "profile = {'nlayers': '3',\n",
    "         0: {'thickness': 1500, 'concentrations': [100.0, 0.0, 0.0]},\n",
    "         1: {'thickness': 3000, 'concentrations': [0.0, 100.0, 0.0]},\n",
    "         2: {'thickness': 5e6, 'concentrations': [0.0, 0.0, 100.0]},\n",
    "         'names': ['Co 0.45 Pt 0.55', 'Si 1 O 2', 'Si']}\n",
    "\n",
    "idf_file.set_profile(profile)"
   ]
  },
  {
   "cell_type": "markdown",
   "id": "a0f5e198",
   "metadata": {},
   "source": [
    "## Set NDF run options"
   ]
  },
  {
   "cell_type": "code",
   "execution_count": 7,
   "id": "916e3db1",
   "metadata": {},
   "outputs": [],
   "source": [
    "# options = ['fitmethod','channelcompreesion','convolute','distribution','smooth','normalisation']\n",
    "\n",
    "idf_file.set_NDF_run_option('channelcompreesion', '0 - No compression')\n",
    "idf_file.set_NDF_run_option('convolute', '1 - Convolute FWHM')\n",
    "idf_file.set_NDF_run_option('distribution', '0 - Don\\'t use isotropic distribution')\n",
    "idf_file.set_NDF_run_option('smooth', '1 - Smooth data')\n",
    "idf_file.set_NDF_run_option('normalisation', '1 - Normalise profile')\n",
    "idf_file.set_NDF_run_option('fitmethod', '0 - Simulate one spectrum from ndf.prf, no fit')"
   ]
  },
  {
   "cell_type": "markdown",
   "id": "a9d9daf8",
   "metadata": {},
   "source": [
    "## Save file"
   ]
  },
  {
   "cell_type": "code",
   "execution_count": 8,
   "id": "807dc73f",
   "metadata": {},
   "outputs": [],
   "source": [
    "idf_file.save_idf(save_path);"
   ]
  },
  {
   "cell_type": "markdown",
   "id": "6cde1cfa",
   "metadata": {},
   "source": [
    "## Open the file in IDFVIewer to check and add missing data"
   ]
  },
  {
   "cell_type": "code",
   "execution_count": 10,
   "id": "b5372440",
   "metadata": {},
   "outputs": [
    {
     "name": "stdout",
     "output_type": "stream",
     "text": [
      "Opening file...\r\n",
      "Path: ../Example_a4/\r\n",
      "File: original_file.xml\r\n"
     ]
    }
   ],
   "source": [
    "!python3 $IDFViewer $save_path"
   ]
  },
  {
   "cell_type": "markdown",
   "id": "6df0d95d",
   "metadata": {},
   "source": [
    "# Run NDF"
   ]
  },
  {
   "cell_type": "code",
   "execution_count": null,
   "id": "3f314965",
   "metadata": {},
   "outputs": [],
   "source": [
    "run_ndf(idf_file)"
   ]
  },
  {
   "cell_type": "code",
   "execution_count": null,
   "id": "d2d2446c",
   "metadata": {},
   "outputs": [],
   "source": [
    "idf_file.set_spectra_result(spectra_id = 0)\n",
    "channel, counts = idf_file.get_dataxy_fit()\n",
    "\n",
    "# create the figure\n",
    "fig, ax = rbsAux.create_figure(\n",
    "    xlim = [0, 1050], ylim=[-50, 4500], title = '', fig_size=[6, 4], depth_scale = False)\n",
    "\n",
    "ax.plot(channel, counts)\n",
    "\n",
    "fig.tight_layout()"
   ]
  },
  {
   "cell_type": "markdown",
   "id": "5720eb41",
   "metadata": {},
   "source": [
    "## Run NDF simulations for multiple concentrations of Co$_x$Pt$_{1-x}$"
   ]
  },
  {
   "cell_type": "code",
   "execution_count": 14,
   "id": "76192427",
   "metadata": {
    "code_folding": [
     0
    ]
   },
   "outputs": [
    {
     "name": "stdout",
     "output_type": "stream",
     "text": [
      "Co_000_Pt_100.xml\n",
      "Co_010_Pt_090.xml\n",
      "Co_020_Pt_080.xml\n",
      "Co_030_Pt_070.xml\n",
      "Co_040_Pt_060.xml\n",
      "Co_050_Pt_050.xml\n",
      "Co_060_Pt_040.xml\n",
      "Co_070_Pt_030.xml\n",
      "Co_080_Pt_020.xml\n",
      "Co_090_Pt_010.xml\n",
      "Co_100_Pt_000.xml\n"
     ]
    }
   ],
   "source": [
    "def create_tree_folder(molecules):\n",
    "    # organize new files with new folders and names\n",
    "    path_dir = 'ML_data/' #idf_file.path_dir\n",
    "    \n",
    "    name_file = molecules[0]['name'].replace(' ', '_').replace('.','')\n",
    "    new_dir = path_dir + name_file + '/'\n",
    "    new_name = name_file + '.xml'      \n",
    "\n",
    "    try: mkdir(new_dir)\n",
    "    except: pass \n",
    "    \n",
    "    return new_dir + new_name\n",
    "\n",
    "\n",
    "\n",
    "concentrations = np.linspace(0, 1, 11)\n",
    "list_idfs = []\n",
    "\n",
    "for c in concentrations:\n",
    "    molecules[0]['name'] = 'Co %0.2f Pt %0.2f'%(c, 1-c)\n",
    "    profile['names'][0] = molecules[0]['name']\n",
    "    \n",
    "    idf_file.set_elements(molecules)\n",
    "    idf_file.set_profile(profile)\n",
    "    \n",
    "    path_new_idf = create_tree_folder(molecules)\n",
    "    \n",
    "    \n",
    "    idf_file.save_idf(path_new_idf)\n",
    "    \n",
    "    list_idfs.append(idf_file.copy()) \n",
    "    \n",
    "for idf_new in list_idfs:\n",
    "    print(idf_new.file_name)\n",
    "    \n",
    "#     print(molecules[0]['name'])"
   ]
  },
  {
   "cell_type": "code",
   "execution_count": null,
   "id": "7be51b2a",
   "metadata": {},
   "outputs": [],
   "source": [
    "for idf in list_idfs:\n",
    "    run_ndf(idf)"
   ]
  },
  {
   "cell_type": "code",
   "execution_count": null,
   "id": "1315c8cb",
   "metadata": {},
   "outputs": [],
   "source": [
    "idf_file = IDF(save_path)"
   ]
  },
  {
   "cell_type": "code",
   "execution_count": null,
   "id": "8b267930",
   "metadata": {},
   "outputs": [],
   "source": [
    "idf_file.append_simulation_entry(len(list_idfs))\n",
    "\n",
    "fig, ax = rbsAux.create_figure(\n",
    "    xlim = [0, 1050], ylim=[-50, 6500], title = '', fig_size=[6, 4], depth_scale = False)\n",
    "\n",
    "for i,idf in enumerate(list_idfs):\n",
    "    idf.set_spectra_result()\n",
    "    idf.set_elements_result()\n",
    "    channel, counts = idf.get_dataxy_fit()\n",
    "    \n",
    "    idf_file.set_spectrum_data_fit_result(channel, counts, simulation_id=i)\n",
    "    \n",
    "    ax.plot(channel, counts, label = idf.file_name)\n",
    "\n",
    "ax.legend(frameon = False)\n",
    "fig.tight_layout()"
   ]
  },
  {
   "cell_type": "code",
   "execution_count": 20,
   "id": "938a4cc0",
   "metadata": {},
   "outputs": [
    {
     "data": {
      "text/plain": [
       "<pyIBA.IDF.IDF at 0x7f4bb4ee3940>"
      ]
     },
     "execution_count": 20,
     "metadata": {},
     "output_type": "execute_result"
    }
   ],
   "source": [
    "idf_file.save_idf(save_path)"
   ]
  },
  {
   "cell_type": "markdown",
   "id": "e8ed5c2c",
   "metadata": {},
   "source": [
    "# Machine Learning"
   ]
  },
  {
   "cell_type": "code",
   "execution_count": 11,
   "id": "83c1d11b",
   "metadata": {},
   "outputs": [],
   "source": [
    "#load modules\n",
    "from tensorflow import keras\n",
    "from tensorflow.keras import layers\n",
    "import datetime\n",
    "\n",
    "#this part of the code is only needed to reset the learning session on the Jupyter Kernel.\n",
    "import tensorflow as tf\n",
    "\n",
    "\n",
    "tf.keras.backend.clear_session()"
   ]
  },
  {
   "cell_type": "markdown",
   "id": "fbac92f2",
   "metadata": {},
   "source": [
    "## Define Neural Network"
   ]
  },
  {
   "cell_type": "code",
   "execution_count": 15,
   "id": "0c00a1ae",
   "metadata": {},
   "outputs": [],
   "source": [
    "## NN deffinition\n",
    "#del model\n",
    "num_neurons = 32\n",
    "input_len = len(list_idfs[0].get_dataxy_fit()[0])\n",
    "output_len = 1\n",
    "\n",
    "activation='tanh'\n",
    "\n",
    "model = keras.Sequential()\n",
    "# Add layers:\n",
    "model.add(layers.GaussianNoise(0.0001, input_shape=(input_len,)))\n",
    "model.add(layers.Dense(45,input_dim=input_len, activation=activation))\n",
    "# model.add(layers.Dense(2, activation=activation))\n",
    "model.add(layers.Dense(num_neurons, activation=activation))\n",
    "model.add(layers.Dense(num_neurons, activation=activation))\n",
    "model.add(layers.Dense(output_len, activation='relu'))\n",
    "\n",
    "# Compile\n",
    "model.compile(optimizer=keras.optimizers.Adam(0.0003),\n",
    "              loss='mse',\n",
    "              metrics=['mse'])"
   ]
  },
  {
   "cell_type": "markdown",
   "id": "a713f8f1",
   "metadata": {},
   "source": [
    "## Organize inputs/outputs"
   ]
  },
  {
   "cell_type": "code",
   "execution_count": 16,
   "id": "c45596bb",
   "metadata": {},
   "outputs": [
    {
     "name": "stdout",
     "output_type": "stream",
     "text": [
      "(11, 1023)\n",
      "(11,)\n"
     ]
    }
   ],
   "source": [
    "inputs_real = []\n",
    "for idf in list_idfs:\n",
    "    channel, counts = idf.get_dataxy_fit()\n",
    "    \n",
    "    inputs_real.append(counts)\n",
    "    \n",
    "inputs_real = np.array(inputs_real)\n",
    "outputs_real = np.array(concentrations)\n",
    "\n",
    "print(inputs_real.shape)\n",
    "print(outputs_real.shape)"
   ]
  },
  {
   "cell_type": "markdown",
   "id": "0f96c097",
   "metadata": {},
   "source": [
    "### Create more spectra by adding random noise"
   ]
  },
  {
   "cell_type": "code",
   "execution_count": 17,
   "id": "46c7c650",
   "metadata": {},
   "outputs": [],
   "source": [
    "samples_to_add = 5\n",
    "\n",
    "inputs = []\n",
    "outputs = []\n",
    "\n",
    "for inp, outp in zip(inputs_real, outputs_real):\n",
    "    for _ in range(samples_to_add):\n",
    "        input_noise = inp + np.random.normal(0, 25, size=input_len)\n",
    "        inputs.append(input_noise)\n",
    "        \n",
    "        outputs.append(outp)\n",
    "        \n",
    "inputs = np.array(inputs)\n",
    "outputs= np.array(outputs)\n",
    "        \n",
    "    \n",
    "#randomize inputs and outputs\n",
    "index_random = np.random.permutation(len(outputs))\n",
    "inputs = inputs[index_random,:]\n",
    "outputs = outputs[index_random]"
   ]
  },
  {
   "cell_type": "code",
   "execution_count": 18,
   "id": "a4d90567",
   "metadata": {
    "tags": [
     "nbsphinx-thumbnail"
    ]
   },
   "outputs": [
    {
     "data": {
      "image/png": "[encoded data removed]",
      "text/plain": [
       "<Figure size 432x288 with 1 Axes>"
      ]
     },
     "metadata": {
      "needs_background": "light"
     },
     "output_type": "display_data"
    }
   ],
   "source": [
    "fig, ax = rbsAux.create_figure(\n",
    "    xlim = [0, 1050], ylim=[-50, 6500], title = '', fig_size=[6, 4], depth_scale = False)\n",
    "\n",
    "for inp, outp in zip(inputs, outputs):\n",
    "    ax.plot(channel, inp)\n",
    "    \n",
    "fig.tight_layout()"
   ]
  },
  {
   "cell_type": "markdown",
   "id": "fc37d1ac",
   "metadata": {},
   "source": [
    "## Train the network"
   ]
  },
  {
   "cell_type": "code",
   "execution_count": 19,
   "id": "3c174aa0",
   "metadata": {
    "scrolled": true
   },
   "outputs": [
    {
     "name": "stdout",
     "output_type": "stream",
     "text": [
      "CPU times: user 101 ms, sys: 1.67 ms, total: 103 ms\n",
      "Wall time: 124 ms\n"
     ]
    },
    {
     "data": {
      "text/plain": [
       "<tensorflow.python.training.tracking.util.CheckpointLoadStatus at 0x7fb66ce3f0d0>"
      ]
     },
     "execution_count": 19,
     "metadata": {},
     "output_type": "execute_result"
    }
   ],
   "source": [
    "%%time\n",
    "\n",
    "log_dir=\"logs/fit/\" + datetime.datetime.now().strftime(\"%Y%m%d-%H%M%S\")\n",
    "tensorboard_callback = keras.callbacks.TensorBoard(log_dir=log_dir, histogram_freq=1)\n",
    "\n",
    "model.load_weights('ML_data/final_model_state')\n",
    "# hist = model.fit(inputs, outputs, epochs=600, batch_size=11, callbacks=[tensorboard_callback])"
   ]
  },
  {
   "cell_type": "code",
   "execution_count": 24,
   "id": "621c6f8b",
   "metadata": {},
   "outputs": [
    {
     "data": {
      "text/plain": [
       "<Figure size 432x288 with 0 Axes>"
      ]
     },
     "metadata": {},
     "output_type": "display_data"
    }
   ],
   "source": [
    "try:\n",
    "    plt.figure(figsize=(6,4))\n",
    "    plt.plot(hist.history['mse'])\n",
    "    plt.xlabel('Epoch')\n",
    "    plt.ylabel('Mean Squared Error')\n",
    "    model.summary()\n",
    "except:\n",
    "    pass"
   ]
  },
  {
   "cell_type": "markdown",
   "id": "25e58582",
   "metadata": {},
   "source": [
    "## Verify the training"
   ]
  },
  {
   "cell_type": "code",
   "execution_count": 21,
   "id": "c1273eb7",
   "metadata": {},
   "outputs": [
    {
     "name": "stdout",
     "output_type": "stream",
     "text": [
      "Opening NDF...\n",
      "wine /home/msequeira/Dropbox/CTN/Radiate/IDF_python/GUI/test/pyIBA/codes/NDF_11_MS/NDF.exe Co_015_Pt_085.xml 0 0 1 0 1 1\n",
      "Opening NDF...\n",
      "wine /home/msequeira/Dropbox/CTN/Radiate/IDF_python/GUI/test/pyIBA/codes/NDF_11_MS/NDF.exe Co_065_Pt_035.xml 0 0 1 0 1 1\n",
      "Opening NDF...\n",
      "wine /home/msequeira/Dropbox/CTN/Radiate/IDF_python/GUI/test/pyIBA/codes/NDF_11_MS/NDF.exe Co_043_Pt_057.xml 0 0 1 0 1 1\n",
      "Opening NDF...\n",
      "wine /home/msequeira/Dropbox/CTN/Radiate/IDF_python/GUI/test/pyIBA/codes/NDF_11_MS/NDF.exe Co_081_Pt_019.xml 0 0 1 0 1 1\n",
      "Opening NDF...\n",
      "wine /home/msequeira/Dropbox/CTN/Radiate/IDF_python/GUI/test/pyIBA/codes/NDF_11_MS/NDF.exe Co_094_Pt_006.xml 0 0 1 0 1 1\n"
     ]
    }
   ],
   "source": [
    "idf_file = IDF(save_path)\n",
    "concentrations_compare = [0.15, 0.65, 0.43, 0.81, 0.94]\n",
    "list_idfs_compare = []\n",
    "\n",
    "for c in concentrations_compare:\n",
    "    molecules[0]['name'] = 'Co %0.2f Pt %0.2f'%(c, 1-c)\n",
    "    profile['names'][0] = molecules[0]['name']\n",
    "    \n",
    "    idf_file.set_elements(molecules)\n",
    "    idf_file.set_profile(profile)\n",
    "    \n",
    "    path_new_idf = create_tree_folder(molecules)\n",
    "    \n",
    "    \n",
    "    idf_file.save_idf(path_new_idf)\n",
    "    list_idfs_compare.append(idf_file.copy())\n",
    "    \n",
    "for idf in list_idfs_compare:\n",
    "    run_ndf(idf)\n",
    "    \n",
    "    "
   ]
  },
  {
   "cell_type": "code",
   "execution_count": 22,
   "id": "d0e74359",
   "metadata": {},
   "outputs": [],
   "source": [
    "for idf in list_idfs_compare:\n",
    "    idf.set_spectra_result()\n"
   ]
  },
  {
   "cell_type": "code",
   "execution_count": 23,
   "id": "61906443",
   "metadata": {
    "scrolled": false
   },
   "outputs": [
    {
     "name": "stdout",
     "output_type": "stream",
     "text": [
      "True --> Predicted\n"
     ]
    },
    {
     "data": {
      "image/png": "[encoded data removed]",
      "text/plain": [
       "<Figure size 432x288 with 1 Axes>"
      ]
     },
     "metadata": {
      "needs_background": "light"
     },
     "output_type": "display_data"
    }
   ],
   "source": [
    "print('True --> Predicted')\n",
    "\n",
    "fig, ax = rbsAux.create_figure(\n",
    "    xlim = [0, 1050], ylim=[-50, 6500], title = '', fig_size=[6, 4], depth_scale = False)\n",
    "\n",
    "for idf, conc in zip(list_idfs_compare, concentrations_compare):\n",
    "    channel, data = idf.get_dataxy_fit()\n",
    "    prediction = model.predict(np.array([data]))\n",
    "    \n",
    "    label = r'%0.2f $\\longrightarrow$ %0.3f (%0.2f%%)' %(conc, prediction[0][0], 100 - conc/prediction[0][0]*100)\n",
    "    plt.plot(channel, data, label = label)\n",
    "\n",
    "ax.legend(frameon=False)\n",
    "fig.tight_layout()"
   ]
  },
  {
   "cell_type": "markdown",
   "id": "797fcacc",
   "metadata": {},
   "source": [
    "## Save model training weights"
   ]
  },
  {
   "cell_type": "code",
   "execution_count": 39,
   "id": "1f7cc4bc",
   "metadata": {},
   "outputs": [],
   "source": [
    "# model.save_weights('ML_data/final_model_state')"
   ]
  }
 ],
 "metadata": {
  "hide_input": false,
  "kernelspec": {
   "display_name": "Python 3",
   "language": "python",
   "name": "python3"
  },
  "language_info": {
   "codemirror_mode": {
    "name": "ipython",
    "version": 3
   },
   "file_extension": ".py",
   "mimetype": "text/x-python",
   "name": "python",
   "nbconvert_exporter": "python",
   "pygments_lexer": "ipython3",
   "version": "3.8.10"
  },
  "toc": {
   "base_numbering": 1,
   "nav_menu": {},
   "number_sections": true,
   "sideBar": true,
   "skip_h1_title": false,
   "title_cell": "Table of Contents",
   "title_sidebar": "Contents",
   "toc_cell": false,
   "toc_position": {},
   "toc_section_display": true,
   "toc_window_display": true
  }
 },
 "nbformat": 4,
 "nbformat_minor": 5
}
