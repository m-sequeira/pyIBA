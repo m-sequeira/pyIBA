{
 "cells": [
  {
   "cell_type": "markdown",
   "id": "b6dff2b5",
   "metadata": {},
   "source": [
    "# 5 - IDF files with other techniques"
   ]
  },
  {
   "cell_type": "markdown",
   "id": "419a5c7a",
   "metadata": {},
   "source": [
    "So far, in the examples, we have only worked with RBS data. However, the IDF format accommodates all IBA techniques, as should pyIBA. Yet, the latter has only been tested with RBS, NRA, PIXE and (despite not exactly IBA) SIMS.\n",
    "\n",
    "Here we exemplify how pyIBA handles NRA data. In [Example A1](../advanced_examples/Example_a1/Large_IDF_file_RBS-NRA-PIXE-SIMS.ipynb) is shown how we can create an IDF file with experimental data resulting from RBS, NRA, PIXE and SIMS measurements and analysis.\n",
    "  \n",
    "The experiment consists of a NRA measurement of a Be sample using $^3$He. We consider 6 reactions:\n",
    "\n",
    "1. D ($^3$He, H) $^4$He 18.35\n",
    "2. Be ($^3$He, H) $^{11}$B  10.32\n",
    "3. Be ($^3$He, H) $^{11}$B  8.19\n",
    "4. Be ($^3$He, H) $^{11}$B  5.88\n",
    "5. Be ($^3$He, H) $^{11}$B  5.30\n",
    "6. $^{12}$C ($^3$He, H) $^{14}$N  4.78\n",
    "\n",
    "As in [Example 1 - Creating a blank IDF](../Example1/blank_idf.ipynb), we start by creating a blank IDF object."
   ]
  },
  {
   "cell_type": "code",
   "execution_count": 1,
   "id": "b4854f70",
   "metadata": {},
   "outputs": [],
   "source": [
    "# if pyIBA has been installed with pip3,\n",
    "# the above 4 lines can be removed\n",
    "import sys\n",
    "from os.path import abspath\n",
    "path_pyIBA = abspath('../../../..')\n",
    "sys.path.insert(0, path_pyIBA)\n",
    "\n",
    "# import pyIBA\n",
    "from pyIBA import IDF"
   ]
  },
  {
   "cell_type": "code",
   "execution_count": 2,
   "id": "984c499c",
   "metadata": {},
   "outputs": [],
   "source": [
    "idf_file = IDF()"
   ]
  },
  {
   "cell_type": "markdown",
   "id": "37d5763c",
   "metadata": {},
   "source": [
    "## Introducing basic parameters"
   ]
  },
  {
   "cell_type": "markdown",
   "id": "aeba0405",
   "metadata": {},
   "source": [
    "We then load the spectrum using the same `set_spectrum_data_from_file()` as all the previous examples:"
   ]
  },
  {
   "cell_type": "code",
   "execution_count": 3,
   "id": "ca360122",
   "metadata": {},
   "outputs": [],
   "source": [
    "#path to file\n",
    "NRA_spectrum_path = 'RBS2_Jari_VTT_He_1.dat'\n",
    "\n",
    "idf_file.set_spectrum_data_from_file(NRA_spectrum_path, mode = '8 columns');"
   ]
  },
  {
   "cell_type": "markdown",
   "id": "fcd17d34",
   "metadata": {},
   "source": [
    ">Note: the NRA data file is presented in a 8 column format, thus we set `mode = '8 columns'`.\n",
    "\n",
    "Afterwards, we should include the geometry parameters. As done in [Example 1](../Example1/blank_idf.ipynb#Adding-beam-parameters), instead of changing one by one using the `set_` methods, we use `set_geo_parameters()`:"
   ]
  },
  {
   "cell_type": "code",
   "execution_count": 4,
   "id": "3b00188f",
   "metadata": {},
   "outputs": [],
   "source": [
    "param_dictonary = {'projectile': '3He',\n",
    "                   'beam_energy': 2300.0,\n",
    "                   'beam_FWHM': 20.0,\n",
    "                   'geometry': 'cornell',\n",
    "                   'angles': ['0', '135'],\n",
    "                   'dect_solid': '34.00',\n",
    "                   'energy_calib': [15.4, 280.78],\n",
    "                   'charge': '1'\n",
    "                  }\n",
    "\n",
    "idf_file.set_geo_parameters(param_dictonary)"
   ]
  },
  {
   "cell_type": "markdown",
   "id": "961cd22d",
   "metadata": {},
   "source": [
    "Finally, we can, and should, set the technique name using:"
   ]
  },
  {
   "cell_type": "code",
   "execution_count": 5,
   "id": "bc6a2f73",
   "metadata": {},
   "outputs": [],
   "source": [
    "idf_file.set_technique('NRA')"
   ]
  },
  {
   "cell_type": "markdown",
   "id": "3c7ab0bb",
   "metadata": {},
   "source": [
    "This will help **pyIBA** to distinguish between techniques, useful to print more appropriate outputs. If no technique is add, **pyIBA** will try an educate guess (which might be wrong) or simply default to assuming RBS technique."
   ]
  },
  {
   "cell_type": "markdown",
   "id": "85c6766e",
   "metadata": {},
   "source": [
    "## Introduction the NRA reactions"
   ]
  },
  {
   "cell_type": "markdown",
   "id": "ecd73cd6",
   "metadata": {},
   "source": [
    "Up to this point the process was identical to RBS. However, for NRA we also need to include the reactions emitting the detected particles. For this we use `set_reactions()`. For each reaction there should be a reaction dictionary with the respective parameters."
   ]
  },
  {
   "cell_type": "code",
   "execution_count": 6,
   "id": "19a5b24b",
   "metadata": {},
   "outputs": [],
   "source": [
    "reation1 =  {'initialtargetparticle': 'D',\n",
    "             'incidentparticle': '3He',\n",
    "             'exitparticle': '1H',\n",
    "             'finaltargetparticle': '4He',\n",
    "             'reactionQ': '18352'}\n",
    "\n",
    "reation2 =  {'initialtargetparticle': 'Be',\n",
    "             'incidentparticle': '3He',\n",
    "             'exitparticle': '1H',\n",
    "             'finaltargetparticle': '11B',\n",
    "             'reactionQ': '10321.90'}\n",
    "\n",
    "reation3 =  {'initialtargetparticle': 'Be',\n",
    "             'incidentparticle': '3He',\n",
    "             'exitparticle': '1H',\n",
    "             'finaltargetparticle': '11B',\n",
    "             'reactionQ': '8191.00'}\n",
    "\n",
    "reation4 =  {'initialtargetparticle': 'Be',\n",
    "             'incidentparticle': '3He',\n",
    "             'exitparticle': '1H',\n",
    "             'finaltargetparticle': '11B',\n",
    "             'reactionQ': '5876.96'}\n",
    "\n",
    "reation5 =  {'initialtargetparticle': 'Be',\n",
    "             'incidentparticle': '3He',\n",
    "             'exitparticle': '1H',\n",
    "             'finaltargetparticle': '11B',\n",
    "             'reactionQ': '5300.96'}\n",
    "\n",
    "reation6 =  {'initialtargetparticle': '12C',\n",
    "             'incidentparticle': '3He',\n",
    "             'exitparticle': '1H',\n",
    "             'finaltargetparticle': '14N',\n",
    "             'reactionQ': '4779'}"
   ]
  },
  {
   "cell_type": "markdown",
   "id": "263a560c",
   "metadata": {},
   "source": [
    "To simplify the process we can create a list with the reaction dictionaries:"
   ]
  },
  {
   "cell_type": "code",
   "execution_count": 7,
   "id": "b3374f02",
   "metadata": {},
   "outputs": [],
   "source": [
    "reactions_list = [reation1, reation2, reation3, reation4, reation5, reation6]"
   ]
  },
  {
   "cell_type": "markdown",
   "id": "86f8d5fc",
   "metadata": {},
   "source": [
    "and add each reaction to the IDF object by looping through the list:"
   ]
  },
  {
   "cell_type": "code",
   "execution_count": 8,
   "id": "f1dc467d",
   "metadata": {},
   "outputs": [],
   "source": [
    "for reaction in reactions_list:\n",
    "    idf_file.set_reactions(reaction, append=True)"
   ]
  },
  {
   "cell_type": "markdown",
   "id": "96bd3c74",
   "metadata": {},
   "source": [
    "Notice that we set `append = True` (the default value) to append each reaction to the IDF file. If you want to substitute the existing set of reactions by a new one, you can load the first reaction using `append = False` and the following with `append = True`:"
   ]
  },
  {
   "cell_type": "code",
   "execution_count": 9,
   "id": "db763615",
   "metadata": {},
   "outputs": [],
   "source": [
    "#introduce the first reaction while removing the existing ones:\n",
    "idf_file.set_reactions(reactions_list[0], append = False)\n",
    "\n",
    "#loop through the remaining reactions:\n",
    "for reaction in reactions_list[1:]:\n",
    "    idf_file.set_reactions(reaction, append = True)"
   ]
  },
  {
   "cell_type": "markdown",
   "id": "2676f501",
   "metadata": {},
   "source": [
    "## Reading the Reactions"
   ]
  },
  {
   "cell_type": "markdown",
   "id": "c8c2871b",
   "metadata": {},
   "source": [
    "The reaction list can be obtained from the IDF object using `get_reactions()`:"
   ]
  },
  {
   "cell_type": "code",
   "execution_count": 10,
   "id": "9a5ed25b",
   "metadata": {},
   "outputs": [],
   "source": [
    "reactions_list = idf_file.get_reactions()"
   ]
  },
  {
   "cell_type": "markdown",
   "id": "0f58218c",
   "metadata": {},
   "source": [
    "Note that every element of this list corresponds to a reaction reactionary:"
   ]
  },
  {
   "cell_type": "code",
   "execution_count": 11,
   "id": "ba646798",
   "metadata": {},
   "outputs": [
    {
     "data": {
      "text/plain": [
       "[{'initialtargetparticle': 'D',\n",
       "  'incidentparticle': '3He',\n",
       "  'exitparticle': '1H',\n",
       "  'finaltargetparticle': '4He',\n",
       "  'reactionQ': '18352.00',\n",
       "  'code': 'D(3He, 1H)4He 18352.00'},\n",
       " {'initialtargetparticle': 'Be',\n",
       "  'incidentparticle': '3He',\n",
       "  'exitparticle': '1H',\n",
       "  'finaltargetparticle': '11B',\n",
       "  'reactionQ': '10321.90',\n",
       "  'code': 'Be(3He, 1H)11B 10321.90'},\n",
       " {'initialtargetparticle': 'Be',\n",
       "  'incidentparticle': '3He',\n",
       "  'exitparticle': '1H',\n",
       "  'finaltargetparticle': '11B',\n",
       "  'reactionQ': '8191.00',\n",
       "  'code': 'Be(3He, 1H)11B 8191.00'},\n",
       " {'initialtargetparticle': 'Be',\n",
       "  'incidentparticle': '3He',\n",
       "  'exitparticle': '1H',\n",
       "  'finaltargetparticle': '11B',\n",
       "  'reactionQ': '5876.96',\n",
       "  'code': 'Be(3He, 1H)11B 5876.96'},\n",
       " {'initialtargetparticle': 'Be',\n",
       "  'incidentparticle': '3He',\n",
       "  'exitparticle': '1H',\n",
       "  'finaltargetparticle': '11B',\n",
       "  'reactionQ': '5300.96',\n",
       "  'code': 'Be(3He, 1H)11B 5300.96'},\n",
       " {'initialtargetparticle': '12C',\n",
       "  'incidentparticle': '3He',\n",
       "  'exitparticle': '1H',\n",
       "  'finaltargetparticle': '14N',\n",
       "  'reactionQ': '4779.00',\n",
       "  'code': '12C(3He, 1H)14N 4779.00'}]"
      ]
     },
     "execution_count": 11,
     "metadata": {},
     "output_type": "execute_result"
    }
   ],
   "source": [
    "reactions_list"
   ]
  },
  {
   "cell_type": "markdown",
   "id": "7abc737f",
   "metadata": {},
   "source": [
    "For instance, if you want to retrieve the reaction formula (in the dictionary named of 'code'):"
   ]
  },
  {
   "cell_type": "code",
   "execution_count": 12,
   "id": "f24e471e",
   "metadata": {},
   "outputs": [
    {
     "name": "stdout",
     "output_type": "stream",
     "text": [
      "D(3He, 1H)4He 18352.00\n",
      "Be(3He, 1H)11B 10321.90\n",
      "Be(3He, 1H)11B 8191.00\n",
      "Be(3He, 1H)11B 5876.96\n",
      "Be(3He, 1H)11B 5300.96\n",
      "12C(3He, 1H)14N 4779.00\n"
     ]
    }
   ],
   "source": [
    "reactions_formulas = []\n",
    "\n",
    "for reaction in reactions_list:\n",
    "    reactions_formulas.append(reaction['code'])\n",
    "    print(reaction['code'])"
   ]
  },
  {
   "cell_type": "markdown",
   "id": "07e876bc",
   "metadata": {},
   "source": [
    "## Plotting the data"
   ]
  },
  {
   "cell_type": "markdown",
   "id": "04779bc9",
   "metadata": {},
   "source": [
    "Plotting here is essentially identical to RBS (see [Example 2](../Example2/reading_idf.ipynb))."
   ]
  },
  {
   "cell_type": "code",
   "execution_count": 13,
   "id": "539162a9",
   "metadata": {},
   "outputs": [],
   "source": [
    "import matplotlib.pyplot as plt\n",
    "plt.rcParams.update({'font.size': 12})\n",
    "\n",
    "# %matplotlib notebook"
   ]
  },
  {
   "cell_type": "code",
   "execution_count": 14,
   "id": "e6bf21e3",
   "metadata": {
    "tags": [
     "nbsphinx-thumbnail"
    ]
   },
   "outputs": [
    {
     "data": {
      "text/plain": [
       "Text(0, 0.5, 'Counts')"
      ]
     },
     "execution_count": 14,
     "metadata": {},
     "output_type": "execute_result"
    },
    {
     "data": {
      "image/png": "[encoded data removed]",
      "text/plain": [
       "<Figure size 576x432 with 1 Axes>"
      ]
     },
     "metadata": {
      "needs_background": "light"
     },
     "output_type": "display_data"
    }
   ],
   "source": [
    "xx, yy = idf_file.get_dataxy()\n",
    "\n",
    "plt.figure(figsize=(8,6))\n",
    "plt.plot(xx, yy)\n",
    "\n",
    "plt.text(220, 250, '\\n'.join(reactions_formulas))\n",
    "\n",
    "plt.xlim(50, 900)\n",
    "plt.ylim(-10, 400)\n",
    "plt.xlabel('Energy (Channels)')\n",
    "plt.ylabel('Counts')"
   ]
  }
 ],
 "metadata": {
  "hide_input": false,
  "kernelspec": {
   "display_name": "Python 3",
   "language": "python",
   "name": "python3"
  },
  "language_info": {
   "codemirror_mode": {
    "name": "ipython",
    "version": 3
   },
   "file_extension": ".py",
   "mimetype": "text/x-python",
   "name": "python",
   "nbconvert_exporter": "python",
   "pygments_lexer": "ipython3",
   "version": "3.10.12"
  },
  "toc": {
   "base_numbering": 1,
   "nav_menu": {},
   "number_sections": true,
   "sideBar": true,
   "skip_h1_title": false,
   "title_cell": "Table of Contents",
   "title_sidebar": "Contents",
   "toc_cell": false,
   "toc_position": {
    "height": "calc(100% - 180px)",
    "left": "10px",
    "top": "150px",
    "width": "181.433px"
   },
   "toc_section_display": true,
   "toc_window_display": true
  }
 },
 "nbformat": 4,
 "nbformat_minor": 5
}
